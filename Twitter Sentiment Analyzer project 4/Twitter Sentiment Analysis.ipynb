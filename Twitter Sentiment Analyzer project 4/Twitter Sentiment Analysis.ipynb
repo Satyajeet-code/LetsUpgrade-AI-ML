{
 "cells": [
  {
   "cell_type": "code",
   "execution_count": 2,
   "metadata": {},
   "outputs": [
    {
     "name": "stdout",
     "output_type": "stream",
     "text": [
      "Collecting tweepy\n",
      "  Downloading tweepy-3.9.0-py2.py3-none-any.whl (30 kB)\n",
      "Collecting requests-oauthlib>=0.7.0\n",
      "  Downloading requests_oauthlib-1.3.0-py2.py3-none-any.whl (23 kB)\n",
      "Requirement already satisfied: six>=1.10.0 in c:\\users\\satya\\anaconda3\\lib\\site-packages (from tweepy) (1.15.0)\n",
      "Requirement already satisfied: requests[socks]>=2.11.1 in c:\\users\\satya\\anaconda3\\lib\\site-packages (from tweepy) (2.24.0)\n",
      "Collecting oauthlib>=3.0.0\n",
      "  Downloading oauthlib-3.1.0-py2.py3-none-any.whl (147 kB)\n",
      "Requirement already satisfied: urllib3!=1.25.0,!=1.25.1,<1.26,>=1.21.1 in c:\\users\\satya\\anaconda3\\lib\\site-packages (from requests[socks]>=2.11.1->tweepy) (1.25.9)\n",
      "Requirement already satisfied: certifi>=2017.4.17 in c:\\users\\satya\\anaconda3\\lib\\site-packages (from requests[socks]>=2.11.1->tweepy) (2020.6.20)\n",
      "Requirement already satisfied: idna<3,>=2.5 in c:\\users\\satya\\anaconda3\\lib\\site-packages (from requests[socks]>=2.11.1->tweepy) (2.10)\n",
      "Requirement already satisfied: chardet<4,>=3.0.2 in c:\\users\\satya\\anaconda3\\lib\\site-packages (from requests[socks]>=2.11.1->tweepy) (3.0.4)\n",
      "Requirement already satisfied: PySocks!=1.5.7,>=1.5.6; extra == \"socks\" in c:\\users\\satya\\anaconda3\\lib\\site-packages (from requests[socks]>=2.11.1->tweepy) (1.7.1)\n",
      "Installing collected packages: oauthlib, requests-oauthlib, tweepy\n",
      "Successfully installed oauthlib-3.1.0 requests-oauthlib-1.3.0 tweepy-3.9.0\n"
     ]
    }
   ],
   "source": [
    "!pip install tweepy"
   ]
  },
  {
   "cell_type": "code",
   "execution_count": 3,
   "metadata": {},
   "outputs": [],
   "source": [
    "import numpy as np\n",
    "import pandas as pd\n",
    "import tweepy\n",
    "import json\n",
    "from tweepy import OAuthHandler"
   ]
  },
  {
   "cell_type": "code",
   "execution_count": 4,
   "metadata": {},
   "outputs": [],
   "source": [
    "consumer_key = \"arcmx7Xf42oA5tLJHXFa5a4kn\"\n",
    "consumer_secret = \"6ZG2ItCrIcCZzDEMGN3XypCZCMgkeC28pJA0Easp4SA67mRci5\"\n",
    "access_token = \"1225809402164236288-ZghPVCwQxX31FSiRjP60FQXG2B7YjQ\"\n",
    "access_token_secret = \"EQyIqsb5MgNbSD4ox9m1qQ5ENhZPfVflh5joMVaDXgx80\""
   ]
  },
  {
   "cell_type": "code",
   "execution_count": 5,
   "metadata": {},
   "outputs": [],
   "source": [
    "auth = tweepy.OAuthHandler( consumer_key , consumer_secret )\n",
    "auth.set_access_token( access_token , access_token_secret )\n",
    "api = tweepy.API(auth)"
   ]
  },
  {
   "cell_type": "code",
   "execution_count": 6,
   "metadata": {},
   "outputs": [],
   "source": [
    "query = \"Biden winning election\""
   ]
  },
  {
   "cell_type": "code",
   "execution_count": 7,
   "metadata": {},
   "outputs": [
    {
     "name": "stdout",
     "output_type": "stream",
     "text": [
      "Status(_api=<tweepy.api.API object at 0x000001DDA90203A0>, _json={'created_at': 'Tue Nov 17 18:53:25 +0000 2020', 'id': 1328773253687603200, 'id_str': '1328773253687603200', 'full_text': 'Bexar County is home to both San Antonio and opposing stories from the 2020 election. Biden surged in Whiter areas in the north/west (winning all CD pieces in Bexar), but Trump held his 2016 percentage through improvements with Hispanics. #txlege #ElectionTwitter #Election2020 https://t.co/7rOuLKac0c', 'truncated': False, 'display_text_range': [0, 277], 'entities': {'hashtags': [{'text': 'txlege', 'indices': [239, 246]}, {'text': 'ElectionTwitter', 'indices': [247, 263]}, {'text': 'Election2020', 'indices': [264, 277]}], 'symbols': [], 'user_mentions': [], 'urls': [], 'media': [{'id': 1328766729565200384, 'id_str': '1328766729565200384', 'indices': [278, 301], 'media_url': 'http://pbs.twimg.com/media/EnC6TOkXYAAKGpi.jpg', 'media_url_https': 'https://pbs.twimg.com/media/EnC6TOkXYAAKGpi.jpg', 'url': 'https://t.co/7rOuLKac0c', 'display_url': 'pic.twitter.com/7rOuLKac0c', 'expanded_url': 'https://twitter.com/OryxMaps/status/1328773253687603200/photo/1', 'type': 'photo', 'sizes': {'thumb': {'w': 150, 'h': 150, 'resize': 'crop'}, 'large': {'w': 725, 'h': 500, 'resize': 'fit'}, 'medium': {'w': 725, 'h': 500, 'resize': 'fit'}, 'small': {'w': 680, 'h': 469, 'resize': 'fit'}}}]}, 'extended_entities': {'media': [{'id': 1328766729565200384, 'id_str': '1328766729565200384', 'indices': [278, 301], 'media_url': 'http://pbs.twimg.com/media/EnC6TOkXYAAKGpi.jpg', 'media_url_https': 'https://pbs.twimg.com/media/EnC6TOkXYAAKGpi.jpg', 'url': 'https://t.co/7rOuLKac0c', 'display_url': 'pic.twitter.com/7rOuLKac0c', 'expanded_url': 'https://twitter.com/OryxMaps/status/1328773253687603200/photo/1', 'type': 'photo', 'sizes': {'thumb': {'w': 150, 'h': 150, 'resize': 'crop'}, 'large': {'w': 725, 'h': 500, 'resize': 'fit'}, 'medium': {'w': 725, 'h': 500, 'resize': 'fit'}, 'small': {'w': 680, 'h': 469, 'resize': 'fit'}}}]}, 'metadata': {'iso_language_code': 'en', 'result_type': 'recent'}, 'source': '<a href=\"https://mobile.twitter.com\" rel=\"nofollow\">Twitter Web App</a>', 'in_reply_to_status_id': None, 'in_reply_to_status_id_str': None, 'in_reply_to_user_id': None, 'in_reply_to_user_id_str': None, 'in_reply_to_screen_name': None, 'user': {'id': 978716830624862209, 'id_str': '978716830624862209', 'name': 'OryxMaps', 'screen_name': 'OryxMaps', 'location': 'Washington, DC', 'description': 'Boston University Graduate named Ben Lefkowitz, Usually go by the name Oryx online. Posts geographic analysis of worldwide elections. DDHQ writer and analyst.', 'url': 'https://t.co/TK0bEbKpAn', 'entities': {'url': {'urls': [{'url': 'https://t.co/TK0bEbKpAn', 'expanded_url': 'https://www.linkedin.com/in/benjamin-lefkowitz/', 'display_url': 'linkedin.com/in/benjamin-le…', 'indices': [0, 23]}]}, 'description': {'urls': []}}, 'protected': False, 'followers_count': 2588, 'friends_count': 87, 'listed_count': 138, 'created_at': 'Tue Mar 27 19:34:10 +0000 2018', 'favourites_count': 5537, 'utc_offset': None, 'time_zone': None, 'geo_enabled': False, 'verified': False, 'statuses_count': 4326, 'lang': None, 'contributors_enabled': False, 'is_translator': False, 'is_translation_enabled': False, 'profile_background_color': 'F5F8FA', 'profile_background_image_url': None, 'profile_background_image_url_https': None, 'profile_background_tile': False, 'profile_image_url': 'http://pbs.twimg.com/profile_images/1123447758524952578/wnp6JlFw_normal.png', 'profile_image_url_https': 'https://pbs.twimg.com/profile_images/1123447758524952578/wnp6JlFw_normal.png', 'profile_banner_url': 'https://pbs.twimg.com/profile_banners/978716830624862209/1574085796', 'profile_link_color': '1DA1F2', 'profile_sidebar_border_color': 'C0DEED', 'profile_sidebar_fill_color': 'DDEEF6', 'profile_text_color': '333333', 'profile_use_background_image': True, 'has_extended_profile': True, 'default_profile': True, 'default_profile_image': False, 'following': False, 'follow_request_sent': False, 'notifications': False, 'translator_type': 'none'}, 'geo': None, 'coordinates': None, 'place': None, 'contributors': None, 'is_quote_status': False, 'retweet_count': 1, 'favorite_count': 1, 'favorited': False, 'retweeted': False, 'possibly_sensitive': False, 'lang': 'en'}, created_at=datetime.datetime(2020, 11, 17, 18, 53, 25), id=1328773253687603200, id_str='1328773253687603200', full_text='Bexar County is home to both San Antonio and opposing stories from the 2020 election. Biden surged in Whiter areas in the north/west (winning all CD pieces in Bexar), but Trump held his 2016 percentage through improvements with Hispanics. #txlege #ElectionTwitter #Election2020 https://t.co/7rOuLKac0c', truncated=False, display_text_range=[0, 277], entities={'hashtags': [{'text': 'txlege', 'indices': [239, 246]}, {'text': 'ElectionTwitter', 'indices': [247, 263]}, {'text': 'Election2020', 'indices': [264, 277]}], 'symbols': [], 'user_mentions': [], 'urls': [], 'media': [{'id': 1328766729565200384, 'id_str': '1328766729565200384', 'indices': [278, 301], 'media_url': 'http://pbs.twimg.com/media/EnC6TOkXYAAKGpi.jpg', 'media_url_https': 'https://pbs.twimg.com/media/EnC6TOkXYAAKGpi.jpg', 'url': 'https://t.co/7rOuLKac0c', 'display_url': 'pic.twitter.com/7rOuLKac0c', 'expanded_url': 'https://twitter.com/OryxMaps/status/1328773253687603200/photo/1', 'type': 'photo', 'sizes': {'thumb': {'w': 150, 'h': 150, 'resize': 'crop'}, 'large': {'w': 725, 'h': 500, 'resize': 'fit'}, 'medium': {'w': 725, 'h': 500, 'resize': 'fit'}, 'small': {'w': 680, 'h': 469, 'resize': 'fit'}}}]}, extended_entities={'media': [{'id': 1328766729565200384, 'id_str': '1328766729565200384', 'indices': [278, 301], 'media_url': 'http://pbs.twimg.com/media/EnC6TOkXYAAKGpi.jpg', 'media_url_https': 'https://pbs.twimg.com/media/EnC6TOkXYAAKGpi.jpg', 'url': 'https://t.co/7rOuLKac0c', 'display_url': 'pic.twitter.com/7rOuLKac0c', 'expanded_url': 'https://twitter.com/OryxMaps/status/1328773253687603200/photo/1', 'type': 'photo', 'sizes': {'thumb': {'w': 150, 'h': 150, 'resize': 'crop'}, 'large': {'w': 725, 'h': 500, 'resize': 'fit'}, 'medium': {'w': 725, 'h': 500, 'resize': 'fit'}, 'small': {'w': 680, 'h': 469, 'resize': 'fit'}}}]}, metadata={'iso_language_code': 'en', 'result_type': 'recent'}, source='Twitter Web App', source_url='https://mobile.twitter.com', in_reply_to_status_id=None, in_reply_to_status_id_str=None, in_reply_to_user_id=None, in_reply_to_user_id_str=None, in_reply_to_screen_name=None, author=User(_api=<tweepy.api.API object at 0x000001DDA90203A0>, _json={'id': 978716830624862209, 'id_str': '978716830624862209', 'name': 'OryxMaps', 'screen_name': 'OryxMaps', 'location': 'Washington, DC', 'description': 'Boston University Graduate named Ben Lefkowitz, Usually go by the name Oryx online. Posts geographic analysis of worldwide elections. DDHQ writer and analyst.', 'url': 'https://t.co/TK0bEbKpAn', 'entities': {'url': {'urls': [{'url': 'https://t.co/TK0bEbKpAn', 'expanded_url': 'https://www.linkedin.com/in/benjamin-lefkowitz/', 'display_url': 'linkedin.com/in/benjamin-le…', 'indices': [0, 23]}]}, 'description': {'urls': []}}, 'protected': False, 'followers_count': 2588, 'friends_count': 87, 'listed_count': 138, 'created_at': 'Tue Mar 27 19:34:10 +0000 2018', 'favourites_count': 5537, 'utc_offset': None, 'time_zone': None, 'geo_enabled': False, 'verified': False, 'statuses_count': 4326, 'lang': None, 'contributors_enabled': False, 'is_translator': False, 'is_translation_enabled': False, 'profile_background_color': 'F5F8FA', 'profile_background_image_url': None, 'profile_background_image_url_https': None, 'profile_background_tile': False, 'profile_image_url': 'http://pbs.twimg.com/profile_images/1123447758524952578/wnp6JlFw_normal.png', 'profile_image_url_https': 'https://pbs.twimg.com/profile_images/1123447758524952578/wnp6JlFw_normal.png', 'profile_banner_url': 'https://pbs.twimg.com/profile_banners/978716830624862209/1574085796', 'profile_link_color': '1DA1F2', 'profile_sidebar_border_color': 'C0DEED', 'profile_sidebar_fill_color': 'DDEEF6', 'profile_text_color': '333333', 'profile_use_background_image': True, 'has_extended_profile': True, 'default_profile': True, 'default_profile_image': False, 'following': False, 'follow_request_sent': False, 'notifications': False, 'translator_type': 'none'}, id=978716830624862209, id_str='978716830624862209', name='OryxMaps', screen_name='OryxMaps', location='Washington, DC', description='Boston University Graduate named Ben Lefkowitz, Usually go by the name Oryx online. Posts geographic analysis of worldwide elections. DDHQ writer and analyst.', url='https://t.co/TK0bEbKpAn', entities={'url': {'urls': [{'url': 'https://t.co/TK0bEbKpAn', 'expanded_url': 'https://www.linkedin.com/in/benjamin-lefkowitz/', 'display_url': 'linkedin.com/in/benjamin-le…', 'indices': [0, 23]}]}, 'description': {'urls': []}}, protected=False, followers_count=2588, friends_count=87, listed_count=138, created_at=datetime.datetime(2018, 3, 27, 19, 34, 10), favourites_count=5537, utc_offset=None, time_zone=None, geo_enabled=False, verified=False, statuses_count=4326, lang=None, contributors_enabled=False, is_translator=False, is_translation_enabled=False, profile_background_color='F5F8FA', profile_background_image_url=None, profile_background_image_url_https=None, profile_background_tile=False, profile_image_url='http://pbs.twimg.com/profile_images/1123447758524952578/wnp6JlFw_normal.png', profile_image_url_https='https://pbs.twimg.com/profile_images/1123447758524952578/wnp6JlFw_normal.png', profile_banner_url='https://pbs.twimg.com/profile_banners/978716830624862209/1574085796', profile_link_color='1DA1F2', profile_sidebar_border_color='C0DEED', profile_sidebar_fill_color='DDEEF6', profile_text_color='333333', profile_use_background_image=True, has_extended_profile=True, default_profile=True, default_profile_image=False, following=False, follow_request_sent=False, notifications=False, translator_type='none'), user=User(_api=<tweepy.api.API object at 0x000001DDA90203A0>, _json={'id': 978716830624862209, 'id_str': '978716830624862209', 'name': 'OryxMaps', 'screen_name': 'OryxMaps', 'location': 'Washington, DC', 'description': 'Boston University Graduate named Ben Lefkowitz, Usually go by the name Oryx online. Posts geographic analysis of worldwide elections. DDHQ writer and analyst.', 'url': 'https://t.co/TK0bEbKpAn', 'entities': {'url': {'urls': [{'url': 'https://t.co/TK0bEbKpAn', 'expanded_url': 'https://www.linkedin.com/in/benjamin-lefkowitz/', 'display_url': 'linkedin.com/in/benjamin-le…', 'indices': [0, 23]}]}, 'description': {'urls': []}}, 'protected': False, 'followers_count': 2588, 'friends_count': 87, 'listed_count': 138, 'created_at': 'Tue Mar 27 19:34:10 +0000 2018', 'favourites_count': 5537, 'utc_offset': None, 'time_zone': None, 'geo_enabled': False, 'verified': False, 'statuses_count': 4326, 'lang': None, 'contributors_enabled': False, 'is_translator': False, 'is_translation_enabled': False, 'profile_background_color': 'F5F8FA', 'profile_background_image_url': None, 'profile_background_image_url_https': None, 'profile_background_tile': False, 'profile_image_url': 'http://pbs.twimg.com/profile_images/1123447758524952578/wnp6JlFw_normal.png', 'profile_image_url_https': 'https://pbs.twimg.com/profile_images/1123447758524952578/wnp6JlFw_normal.png', 'profile_banner_url': 'https://pbs.twimg.com/profile_banners/978716830624862209/1574085796', 'profile_link_color': '1DA1F2', 'profile_sidebar_border_color': 'C0DEED', 'profile_sidebar_fill_color': 'DDEEF6', 'profile_text_color': '333333', 'profile_use_background_image': True, 'has_extended_profile': True, 'default_profile': True, 'default_profile_image': False, 'following': False, 'follow_request_sent': False, 'notifications': False, 'translator_type': 'none'}, id=978716830624862209, id_str='978716830624862209', name='OryxMaps', screen_name='OryxMaps', location='Washington, DC', description='Boston University Graduate named Ben Lefkowitz, Usually go by the name Oryx online. Posts geographic analysis of worldwide elections. DDHQ writer and analyst.', url='https://t.co/TK0bEbKpAn', entities={'url': {'urls': [{'url': 'https://t.co/TK0bEbKpAn', 'expanded_url': 'https://www.linkedin.com/in/benjamin-lefkowitz/', 'display_url': 'linkedin.com/in/benjamin-le…', 'indices': [0, 23]}]}, 'description': {'urls': []}}, protected=False, followers_count=2588, friends_count=87, listed_count=138, created_at=datetime.datetime(2018, 3, 27, 19, 34, 10), favourites_count=5537, utc_offset=None, time_zone=None, geo_enabled=False, verified=False, statuses_count=4326, lang=None, contributors_enabled=False, is_translator=False, is_translation_enabled=False, profile_background_color='F5F8FA', profile_background_image_url=None, profile_background_image_url_https=None, profile_background_tile=False, profile_image_url='http://pbs.twimg.com/profile_images/1123447758524952578/wnp6JlFw_normal.png', profile_image_url_https='https://pbs.twimg.com/profile_images/1123447758524952578/wnp6JlFw_normal.png', profile_banner_url='https://pbs.twimg.com/profile_banners/978716830624862209/1574085796', profile_link_color='1DA1F2', profile_sidebar_border_color='C0DEED', profile_sidebar_fill_color='DDEEF6', profile_text_color='333333', profile_use_background_image=True, has_extended_profile=True, default_profile=True, default_profile_image=False, following=False, follow_request_sent=False, notifications=False, translator_type='none'), geo=None, coordinates=None, place=None, contributors=None, is_quote_status=False, retweet_count=1, favorite_count=1, favorited=False, retweeted=False, possibly_sensitive=False, lang='en') \n",
      "\n",
      ".....................................\n",
      "\n",
      "Status(_api=<tweepy.api.API object at 0x000001DDA90203A0>, _json={'created_at': 'Tue Nov 17 18:51:51 +0000 2020', 'id': 1328772857082548229, 'id_str': '1328772857082548229', 'full_text': \"There is no evidence for claims that Biden didn't win the presidential election fairly.\\nHe has an insurmountable winning margin.\\n\\nTrump's lawsuits cannot change the result, even if he weren't losing 96% of them. It's a sleazy tantrum to appease his wounded ego.\\n\\n#SignThePapers. https://t.co/zssTCZuNxK\", 'truncated': False, 'display_text_range': [0, 278], 'entities': {'hashtags': [{'text': 'SignThePapers', 'indices': [263, 277]}], 'symbols': [], 'user_mentions': [], 'urls': [{'url': 'https://t.co/zssTCZuNxK', 'expanded_url': 'https://twitter.com/MeidasTouch/status/1328543172591423490', 'display_url': 'twitter.com/MeidasTouch/st…', 'indices': [279, 302]}]}, 'metadata': {'iso_language_code': 'en', 'result_type': 'recent'}, 'source': '<a href=\"https://mobile.twitter.com\" rel=\"nofollow\">Twitter Web App</a>', 'in_reply_to_status_id': None, 'in_reply_to_status_id_str': None, 'in_reply_to_user_id': None, 'in_reply_to_user_id_str': None, 'in_reply_to_screen_name': None, 'user': {'id': 830886553123700736, 'id_str': '830886553123700736', 'name': \"Monty 🇺🇸Hamilton's Battery🇺🇸 Boa\", 'screen_name': 'MontyBoa99', 'location': 'Peoria, IL', 'description': '#DitchMitch, #KickCollins, #GavelGraham | #EndCitizensUnited | #TheResistance | #ImpeachBarr | #ImpeachTrumpAgain | #BlackLivesMatter | #M4A', 'url': None, 'entities': {'description': {'urls': []}}, 'protected': False, 'followers_count': 29326, 'friends_count': 11138, 'listed_count': 122, 'created_at': 'Sun Feb 12 21:09:26 +0000 2017', 'favourites_count': 136551, 'utc_offset': None, 'time_zone': None, 'geo_enabled': False, 'verified': False, 'statuses_count': 155265, 'lang': None, 'contributors_enabled': False, 'is_translator': False, 'is_translation_enabled': False, 'profile_background_color': '000000', 'profile_background_image_url': 'http://abs.twimg.com/images/themes/theme1/bg.png', 'profile_background_image_url_https': 'https://abs.twimg.com/images/themes/theme1/bg.png', 'profile_background_tile': False, 'profile_image_url': 'http://pbs.twimg.com/profile_images/1243615546131742723/c8jYNLBp_normal.jpg', 'profile_image_url_https': 'https://pbs.twimg.com/profile_images/1243615546131742723/c8jYNLBp_normal.jpg', 'profile_banner_url': 'https://pbs.twimg.com/profile_banners/830886553123700736/1555424786', 'profile_link_color': '1B95E0', 'profile_sidebar_border_color': '000000', 'profile_sidebar_fill_color': '000000', 'profile_text_color': '000000', 'profile_use_background_image': False, 'has_extended_profile': True, 'default_profile': False, 'default_profile_image': False, 'following': False, 'follow_request_sent': False, 'notifications': False, 'translator_type': 'none'}, 'geo': None, 'coordinates': None, 'place': None, 'contributors': None, 'is_quote_status': True, 'quoted_status_id': 1328543172591423490, 'quoted_status_id_str': '1328543172591423490', 'quoted_status': {'created_at': 'Tue Nov 17 03:39:10 +0000 2020', 'id': 1328543172591423490, 'id_str': '1328543172591423490', 'full_text': '📺 NEW VIDEO\\n\\nTell Emily Murphy to #SignThePapers https://t.co/DDsrNUlwpr', 'truncated': False, 'display_text_range': [0, 48], 'entities': {'hashtags': [{'text': 'SignThePapers', 'indices': [34, 48]}], 'symbols': [], 'user_mentions': [], 'urls': [], 'media': [{'id': 1328536357308747777, 'id_str': '1328536357308747777', 'indices': [49, 72], 'media_url': 'http://pbs.twimg.com/media/Em_tThiUYAASGV6.jpg', 'media_url_https': 'https://pbs.twimg.com/media/Em_tThiUYAASGV6.jpg', 'url': 'https://t.co/DDsrNUlwpr', 'display_url': 'pic.twitter.com/DDsrNUlwpr', 'expanded_url': 'https://twitter.com/MeidasTouch/status/1328543172591423490/video/1', 'type': 'photo', 'sizes': {'thumb': {'w': 150, 'h': 150, 'resize': 'crop'}, 'medium': {'w': 1200, 'h': 675, 'resize': 'fit'}, 'small': {'w': 680, 'h': 383, 'resize': 'fit'}, 'large': {'w': 1280, 'h': 720, 'resize': 'fit'}}}]}, 'extended_entities': {'media': [{'id': 1328536357308747777, 'id_str': '1328536357308747777', 'indices': [49, 72], 'media_url': 'http://pbs.twimg.com/media/Em_tThiUYAASGV6.jpg', 'media_url_https': 'https://pbs.twimg.com/media/Em_tThiUYAASGV6.jpg', 'url': 'https://t.co/DDsrNUlwpr', 'display_url': 'pic.twitter.com/DDsrNUlwpr', 'expanded_url': 'https://twitter.com/MeidasTouch/status/1328543172591423490/video/1', 'type': 'video', 'sizes': {'thumb': {'w': 150, 'h': 150, 'resize': 'crop'}, 'medium': {'w': 1200, 'h': 675, 'resize': 'fit'}, 'small': {'w': 680, 'h': 383, 'resize': 'fit'}, 'large': {'w': 1280, 'h': 720, 'resize': 'fit'}}, 'video_info': {'aspect_ratio': [16, 9], 'duration_millis': 90023, 'variants': [{'content_type': 'application/x-mpegURL', 'url': 'https://video.twimg.com/amplify_video/1328536357308747777/pl/iKk7S2hOcf2CG0ut.m3u8?tag=13'}, {'bitrate': 288000, 'content_type': 'video/mp4', 'url': 'https://video.twimg.com/amplify_video/1328536357308747777/vid/480x270/IL6ecHG2jXJ6IPhC.mp4?tag=13'}, {'bitrate': 832000, 'content_type': 'video/mp4', 'url': 'https://video.twimg.com/amplify_video/1328536357308747777/vid/640x360/KoW1Pd1VPTSLN6Iw.mp4?tag=13'}, {'bitrate': 2176000, 'content_type': 'video/mp4', 'url': 'https://video.twimg.com/amplify_video/1328536357308747777/vid/1280x720/x-uWEedY3Ph9m1sm.mp4?tag=13'}]}, 'additional_media_info': {'title': '#SignThePapers', 'description': 'We will spend every day moving forward working to hold Trump accountable and flip both Senate seats in Georgia! Chip in to our efforts at the link in our video.', 'call_to_actions': {'visit_site': {'url': 'https://secure.actblue.com/donate/mt-ga?refcode=SignThePapers_Embed&amount=20.20'}}, 'embeddable': True, 'monetizable': False}}]}, 'metadata': {'iso_language_code': 'en', 'result_type': 'recent'}, 'source': '<a href=\"https://studio.twitter.com\" rel=\"nofollow\">Twitter Media Studio</a>', 'in_reply_to_status_id': None, 'in_reply_to_status_id_str': None, 'in_reply_to_user_id': None, 'in_reply_to_user_id_str': None, 'in_reply_to_screen_name': None, 'user': {'id': 1243560408025198593, 'id_str': '1243560408025198593', 'name': 'MeidasTouch.com', 'screen_name': 'MeidasTouch', 'location': '', 'description': 'Producing the most hard-hitting and impactful political videos and content. Because truth is golden. Donate https://t.co/5LBp5m7F0u', 'url': 'https://t.co/R8saJm6byv', 'entities': {'url': {'urls': [{'url': 'https://t.co/R8saJm6byv', 'expanded_url': 'https://www.meidastouch.com', 'display_url': 'meidastouch.com', 'indices': [0, 23]}]}, 'description': {'urls': [{'url': 'https://t.co/5LBp5m7F0u', 'expanded_url': 'https://secure.actblue.com/donate/meidastouch/', 'display_url': 'secure.actblue.com/donate/meidast…', 'indices': [108, 131]}]}}, 'protected': False, 'followers_count': 510841, 'friends_count': 742, 'listed_count': 1684, 'created_at': 'Fri Mar 27 15:28:09 +0000 2020', 'favourites_count': 25448, 'utc_offset': None, 'time_zone': None, 'geo_enabled': False, 'verified': False, 'statuses_count': 29371, 'lang': None, 'contributors_enabled': False, 'is_translator': False, 'is_translation_enabled': False, 'profile_background_color': 'F5F8FA', 'profile_background_image_url': None, 'profile_background_image_url_https': None, 'profile_background_tile': False, 'profile_image_url': 'http://pbs.twimg.com/profile_images/1248738664860889088/Qst2VjNl_normal.jpg', 'profile_image_url_https': 'https://pbs.twimg.com/profile_images/1248738664860889088/Qst2VjNl_normal.jpg', 'profile_banner_url': 'https://pbs.twimg.com/profile_banners/1243560408025198593/1594760162', 'profile_link_color': '1DA1F2', 'profile_sidebar_border_color': 'C0DEED', 'profile_sidebar_fill_color': 'DDEEF6', 'profile_text_color': '333333', 'profile_use_background_image': True, 'has_extended_profile': True, 'default_profile': True, 'default_profile_image': False, 'following': False, 'follow_request_sent': False, 'notifications': False, 'translator_type': 'none'}, 'geo': None, 'coordinates': None, 'place': None, 'contributors': None, 'is_quote_status': False, 'retweet_count': 13743, 'favorite_count': 28800, 'favorited': False, 'retweeted': False, 'possibly_sensitive': False, 'lang': 'en'}, 'retweet_count': 2, 'favorite_count': 4, 'favorited': False, 'retweeted': False, 'possibly_sensitive': False, 'lang': 'en'}, created_at=datetime.datetime(2020, 11, 17, 18, 51, 51), id=1328772857082548229, id_str='1328772857082548229', full_text=\"There is no evidence for claims that Biden didn't win the presidential election fairly.\\nHe has an insurmountable winning margin.\\n\\nTrump's lawsuits cannot change the result, even if he weren't losing 96% of them. It's a sleazy tantrum to appease his wounded ego.\\n\\n#SignThePapers. https://t.co/zssTCZuNxK\", truncated=False, display_text_range=[0, 278], entities={'hashtags': [{'text': 'SignThePapers', 'indices': [263, 277]}], 'symbols': [], 'user_mentions': [], 'urls': [{'url': 'https://t.co/zssTCZuNxK', 'expanded_url': 'https://twitter.com/MeidasTouch/status/1328543172591423490', 'display_url': 'twitter.com/MeidasTouch/st…', 'indices': [279, 302]}]}, metadata={'iso_language_code': 'en', 'result_type': 'recent'}, source='Twitter Web App', source_url='https://mobile.twitter.com', in_reply_to_status_id=None, in_reply_to_status_id_str=None, in_reply_to_user_id=None, in_reply_to_user_id_str=None, in_reply_to_screen_name=None, author=User(_api=<tweepy.api.API object at 0x000001DDA90203A0>, _json={'id': 830886553123700736, 'id_str': '830886553123700736', 'name': \"Monty 🇺🇸Hamilton's Battery🇺🇸 Boa\", 'screen_name': 'MontyBoa99', 'location': 'Peoria, IL', 'description': '#DitchMitch, #KickCollins, #GavelGraham | #EndCitizensUnited | #TheResistance | #ImpeachBarr | #ImpeachTrumpAgain | #BlackLivesMatter | #M4A', 'url': None, 'entities': {'description': {'urls': []}}, 'protected': False, 'followers_count': 29326, 'friends_count': 11138, 'listed_count': 122, 'created_at': 'Sun Feb 12 21:09:26 +0000 2017', 'favourites_count': 136551, 'utc_offset': None, 'time_zone': None, 'geo_enabled': False, 'verified': False, 'statuses_count': 155265, 'lang': None, 'contributors_enabled': False, 'is_translator': False, 'is_translation_enabled': False, 'profile_background_color': '000000', 'profile_background_image_url': 'http://abs.twimg.com/images/themes/theme1/bg.png', 'profile_background_image_url_https': 'https://abs.twimg.com/images/themes/theme1/bg.png', 'profile_background_tile': False, 'profile_image_url': 'http://pbs.twimg.com/profile_images/1243615546131742723/c8jYNLBp_normal.jpg', 'profile_image_url_https': 'https://pbs.twimg.com/profile_images/1243615546131742723/c8jYNLBp_normal.jpg', 'profile_banner_url': 'https://pbs.twimg.com/profile_banners/830886553123700736/1555424786', 'profile_link_color': '1B95E0', 'profile_sidebar_border_color': '000000', 'profile_sidebar_fill_color': '000000', 'profile_text_color': '000000', 'profile_use_background_image': False, 'has_extended_profile': True, 'default_profile': False, 'default_profile_image': False, 'following': False, 'follow_request_sent': False, 'notifications': False, 'translator_type': 'none'}, id=830886553123700736, id_str='830886553123700736', name=\"Monty 🇺🇸Hamilton's Battery🇺🇸 Boa\", screen_name='MontyBoa99', location='Peoria, IL', description='#DitchMitch, #KickCollins, #GavelGraham | #EndCitizensUnited | #TheResistance | #ImpeachBarr | #ImpeachTrumpAgain | #BlackLivesMatter | #M4A', url=None, entities={'description': {'urls': []}}, protected=False, followers_count=29326, friends_count=11138, listed_count=122, created_at=datetime.datetime(2017, 2, 12, 21, 9, 26), favourites_count=136551, utc_offset=None, time_zone=None, geo_enabled=False, verified=False, statuses_count=155265, lang=None, contributors_enabled=False, is_translator=False, is_translation_enabled=False, profile_background_color='000000', profile_background_image_url='http://abs.twimg.com/images/themes/theme1/bg.png', profile_background_image_url_https='https://abs.twimg.com/images/themes/theme1/bg.png', profile_background_tile=False, profile_image_url='http://pbs.twimg.com/profile_images/1243615546131742723/c8jYNLBp_normal.jpg', profile_image_url_https='https://pbs.twimg.com/profile_images/1243615546131742723/c8jYNLBp_normal.jpg', profile_banner_url='https://pbs.twimg.com/profile_banners/830886553123700736/1555424786', profile_link_color='1B95E0', profile_sidebar_border_color='000000', profile_sidebar_fill_color='000000', profile_text_color='000000', profile_use_background_image=False, has_extended_profile=True, default_profile=False, default_profile_image=False, following=False, follow_request_sent=False, notifications=False, translator_type='none'), user=User(_api=<tweepy.api.API object at 0x000001DDA90203A0>, _json={'id': 830886553123700736, 'id_str': '830886553123700736', 'name': \"Monty 🇺🇸Hamilton's Battery🇺🇸 Boa\", 'screen_name': 'MontyBoa99', 'location': 'Peoria, IL', 'description': '#DitchMitch, #KickCollins, #GavelGraham | #EndCitizensUnited | #TheResistance | #ImpeachBarr | #ImpeachTrumpAgain | #BlackLivesMatter | #M4A', 'url': None, 'entities': {'description': {'urls': []}}, 'protected': False, 'followers_count': 29326, 'friends_count': 11138, 'listed_count': 122, 'created_at': 'Sun Feb 12 21:09:26 +0000 2017', 'favourites_count': 136551, 'utc_offset': None, 'time_zone': None, 'geo_enabled': False, 'verified': False, 'statuses_count': 155265, 'lang': None, 'contributors_enabled': False, 'is_translator': False, 'is_translation_enabled': False, 'profile_background_color': '000000', 'profile_background_image_url': 'http://abs.twimg.com/images/themes/theme1/bg.png', 'profile_background_image_url_https': 'https://abs.twimg.com/images/themes/theme1/bg.png', 'profile_background_tile': False, 'profile_image_url': 'http://pbs.twimg.com/profile_images/1243615546131742723/c8jYNLBp_normal.jpg', 'profile_image_url_https': 'https://pbs.twimg.com/profile_images/1243615546131742723/c8jYNLBp_normal.jpg', 'profile_banner_url': 'https://pbs.twimg.com/profile_banners/830886553123700736/1555424786', 'profile_link_color': '1B95E0', 'profile_sidebar_border_color': '000000', 'profile_sidebar_fill_color': '000000', 'profile_text_color': '000000', 'profile_use_background_image': False, 'has_extended_profile': True, 'default_profile': False, 'default_profile_image': False, 'following': False, 'follow_request_sent': False, 'notifications': False, 'translator_type': 'none'}, id=830886553123700736, id_str='830886553123700736', name=\"Monty 🇺🇸Hamilton's Battery🇺🇸 Boa\", screen_name='MontyBoa99', location='Peoria, IL', description='#DitchMitch, #KickCollins, #GavelGraham | #EndCitizensUnited | #TheResistance | #ImpeachBarr | #ImpeachTrumpAgain | #BlackLivesMatter | #M4A', url=None, entities={'description': {'urls': []}}, protected=False, followers_count=29326, friends_count=11138, listed_count=122, created_at=datetime.datetime(2017, 2, 12, 21, 9, 26), favourites_count=136551, utc_offset=None, time_zone=None, geo_enabled=False, verified=False, statuses_count=155265, lang=None, contributors_enabled=False, is_translator=False, is_translation_enabled=False, profile_background_color='000000', profile_background_image_url='http://abs.twimg.com/images/themes/theme1/bg.png', profile_background_image_url_https='https://abs.twimg.com/images/themes/theme1/bg.png', profile_background_tile=False, profile_image_url='http://pbs.twimg.com/profile_images/1243615546131742723/c8jYNLBp_normal.jpg', profile_image_url_https='https://pbs.twimg.com/profile_images/1243615546131742723/c8jYNLBp_normal.jpg', profile_banner_url='https://pbs.twimg.com/profile_banners/830886553123700736/1555424786', profile_link_color='1B95E0', profile_sidebar_border_color='000000', profile_sidebar_fill_color='000000', profile_text_color='000000', profile_use_background_image=False, has_extended_profile=True, default_profile=False, default_profile_image=False, following=False, follow_request_sent=False, notifications=False, translator_type='none'), geo=None, coordinates=None, place=None, contributors=None, is_quote_status=True, quoted_status_id=1328543172591423490, quoted_status_id_str='1328543172591423490', quoted_status=Status(_api=<tweepy.api.API object at 0x000001DDA90203A0>, _json={'created_at': 'Tue Nov 17 03:39:10 +0000 2020', 'id': 1328543172591423490, 'id_str': '1328543172591423490', 'full_text': '📺 NEW VIDEO\\n\\nTell Emily Murphy to #SignThePapers https://t.co/DDsrNUlwpr', 'truncated': False, 'display_text_range': [0, 48], 'entities': {'hashtags': [{'text': 'SignThePapers', 'indices': [34, 48]}], 'symbols': [], 'user_mentions': [], 'urls': [], 'media': [{'id': 1328536357308747777, 'id_str': '1328536357308747777', 'indices': [49, 72], 'media_url': 'http://pbs.twimg.com/media/Em_tThiUYAASGV6.jpg', 'media_url_https': 'https://pbs.twimg.com/media/Em_tThiUYAASGV6.jpg', 'url': 'https://t.co/DDsrNUlwpr', 'display_url': 'pic.twitter.com/DDsrNUlwpr', 'expanded_url': 'https://twitter.com/MeidasTouch/status/1328543172591423490/video/1', 'type': 'photo', 'sizes': {'thumb': {'w': 150, 'h': 150, 'resize': 'crop'}, 'medium': {'w': 1200, 'h': 675, 'resize': 'fit'}, 'small': {'w': 680, 'h': 383, 'resize': 'fit'}, 'large': {'w': 1280, 'h': 720, 'resize': 'fit'}}}]}, 'extended_entities': {'media': [{'id': 1328536357308747777, 'id_str': '1328536357308747777', 'indices': [49, 72], 'media_url': 'http://pbs.twimg.com/media/Em_tThiUYAASGV6.jpg', 'media_url_https': 'https://pbs.twimg.com/media/Em_tThiUYAASGV6.jpg', 'url': 'https://t.co/DDsrNUlwpr', 'display_url': 'pic.twitter.com/DDsrNUlwpr', 'expanded_url': 'https://twitter.com/MeidasTouch/status/1328543172591423490/video/1', 'type': 'video', 'sizes': {'thumb': {'w': 150, 'h': 150, 'resize': 'crop'}, 'medium': {'w': 1200, 'h': 675, 'resize': 'fit'}, 'small': {'w': 680, 'h': 383, 'resize': 'fit'}, 'large': {'w': 1280, 'h': 720, 'resize': 'fit'}}, 'video_info': {'aspect_ratio': [16, 9], 'duration_millis': 90023, 'variants': [{'content_type': 'application/x-mpegURL', 'url': 'https://video.twimg.com/amplify_video/1328536357308747777/pl/iKk7S2hOcf2CG0ut.m3u8?tag=13'}, {'bitrate': 288000, 'content_type': 'video/mp4', 'url': 'https://video.twimg.com/amplify_video/1328536357308747777/vid/480x270/IL6ecHG2jXJ6IPhC.mp4?tag=13'}, {'bitrate': 832000, 'content_type': 'video/mp4', 'url': 'https://video.twimg.com/amplify_video/1328536357308747777/vid/640x360/KoW1Pd1VPTSLN6Iw.mp4?tag=13'}, {'bitrate': 2176000, 'content_type': 'video/mp4', 'url': 'https://video.twimg.com/amplify_video/1328536357308747777/vid/1280x720/x-uWEedY3Ph9m1sm.mp4?tag=13'}]}, 'additional_media_info': {'title': '#SignThePapers', 'description': 'We will spend every day moving forward working to hold Trump accountable and flip both Senate seats in Georgia! Chip in to our efforts at the link in our video.', 'call_to_actions': {'visit_site': {'url': 'https://secure.actblue.com/donate/mt-ga?refcode=SignThePapers_Embed&amount=20.20'}}, 'embeddable': True, 'monetizable': False}}]}, 'metadata': {'iso_language_code': 'en', 'result_type': 'recent'}, 'source': '<a href=\"https://studio.twitter.com\" rel=\"nofollow\">Twitter Media Studio</a>', 'in_reply_to_status_id': None, 'in_reply_to_status_id_str': None, 'in_reply_to_user_id': None, 'in_reply_to_user_id_str': None, 'in_reply_to_screen_name': None, 'user': {'id': 1243560408025198593, 'id_str': '1243560408025198593', 'name': 'MeidasTouch.com', 'screen_name': 'MeidasTouch', 'location': '', 'description': 'Producing the most hard-hitting and impactful political videos and content. Because truth is golden. Donate https://t.co/5LBp5m7F0u', 'url': 'https://t.co/R8saJm6byv', 'entities': {'url': {'urls': [{'url': 'https://t.co/R8saJm6byv', 'expanded_url': 'https://www.meidastouch.com', 'display_url': 'meidastouch.com', 'indices': [0, 23]}]}, 'description': {'urls': [{'url': 'https://t.co/5LBp5m7F0u', 'expanded_url': 'https://secure.actblue.com/donate/meidastouch/', 'display_url': 'secure.actblue.com/donate/meidast…', 'indices': [108, 131]}]}}, 'protected': False, 'followers_count': 510841, 'friends_count': 742, 'listed_count': 1684, 'created_at': 'Fri Mar 27 15:28:09 +0000 2020', 'favourites_count': 25448, 'utc_offset': None, 'time_zone': None, 'geo_enabled': False, 'verified': False, 'statuses_count': 29371, 'lang': None, 'contributors_enabled': False, 'is_translator': False, 'is_translation_enabled': False, 'profile_background_color': 'F5F8FA', 'profile_background_image_url': None, 'profile_background_image_url_https': None, 'profile_background_tile': False, 'profile_image_url': 'http://pbs.twimg.com/profile_images/1248738664860889088/Qst2VjNl_normal.jpg', 'profile_image_url_https': 'https://pbs.twimg.com/profile_images/1248738664860889088/Qst2VjNl_normal.jpg', 'profile_banner_url': 'https://pbs.twimg.com/profile_banners/1243560408025198593/1594760162', 'profile_link_color': '1DA1F2', 'profile_sidebar_border_color': 'C0DEED', 'profile_sidebar_fill_color': 'DDEEF6', 'profile_text_color': '333333', 'profile_use_background_image': True, 'has_extended_profile': True, 'default_profile': True, 'default_profile_image': False, 'following': False, 'follow_request_sent': False, 'notifications': False, 'translator_type': 'none'}, 'geo': None, 'coordinates': None, 'place': None, 'contributors': None, 'is_quote_status': False, 'retweet_count': 13743, 'favorite_count': 28800, 'favorited': False, 'retweeted': False, 'possibly_sensitive': False, 'lang': 'en'}, created_at=datetime.datetime(2020, 11, 17, 3, 39, 10), id=1328543172591423490, id_str='1328543172591423490', full_text='📺 NEW VIDEO\\n\\nTell Emily Murphy to #SignThePapers https://t.co/DDsrNUlwpr', truncated=False, display_text_range=[0, 48], entities={'hashtags': [{'text': 'SignThePapers', 'indices': [34, 48]}], 'symbols': [], 'user_mentions': [], 'urls': [], 'media': [{'id': 1328536357308747777, 'id_str': '1328536357308747777', 'indices': [49, 72], 'media_url': 'http://pbs.twimg.com/media/Em_tThiUYAASGV6.jpg', 'media_url_https': 'https://pbs.twimg.com/media/Em_tThiUYAASGV6.jpg', 'url': 'https://t.co/DDsrNUlwpr', 'display_url': 'pic.twitter.com/DDsrNUlwpr', 'expanded_url': 'https://twitter.com/MeidasTouch/status/1328543172591423490/video/1', 'type': 'photo', 'sizes': {'thumb': {'w': 150, 'h': 150, 'resize': 'crop'}, 'medium': {'w': 1200, 'h': 675, 'resize': 'fit'}, 'small': {'w': 680, 'h': 383, 'resize': 'fit'}, 'large': {'w': 1280, 'h': 720, 'resize': 'fit'}}}]}, extended_entities={'media': [{'id': 1328536357308747777, 'id_str': '1328536357308747777', 'indices': [49, 72], 'media_url': 'http://pbs.twimg.com/media/Em_tThiUYAASGV6.jpg', 'media_url_https': 'https://pbs.twimg.com/media/Em_tThiUYAASGV6.jpg', 'url': 'https://t.co/DDsrNUlwpr', 'display_url': 'pic.twitter.com/DDsrNUlwpr', 'expanded_url': 'https://twitter.com/MeidasTouch/status/1328543172591423490/video/1', 'type': 'video', 'sizes': {'thumb': {'w': 150, 'h': 150, 'resize': 'crop'}, 'medium': {'w': 1200, 'h': 675, 'resize': 'fit'}, 'small': {'w': 680, 'h': 383, 'resize': 'fit'}, 'large': {'w': 1280, 'h': 720, 'resize': 'fit'}}, 'video_info': {'aspect_ratio': [16, 9], 'duration_millis': 90023, 'variants': [{'content_type': 'application/x-mpegURL', 'url': 'https://video.twimg.com/amplify_video/1328536357308747777/pl/iKk7S2hOcf2CG0ut.m3u8?tag=13'}, {'bitrate': 288000, 'content_type': 'video/mp4', 'url': 'https://video.twimg.com/amplify_video/1328536357308747777/vid/480x270/IL6ecHG2jXJ6IPhC.mp4?tag=13'}, {'bitrate': 832000, 'content_type': 'video/mp4', 'url': 'https://video.twimg.com/amplify_video/1328536357308747777/vid/640x360/KoW1Pd1VPTSLN6Iw.mp4?tag=13'}, {'bitrate': 2176000, 'content_type': 'video/mp4', 'url': 'https://video.twimg.com/amplify_video/1328536357308747777/vid/1280x720/x-uWEedY3Ph9m1sm.mp4?tag=13'}]}, 'additional_media_info': {'title': '#SignThePapers', 'description': 'We will spend every day moving forward working to hold Trump accountable and flip both Senate seats in Georgia! Chip in to our efforts at the link in our video.', 'call_to_actions': {'visit_site': {'url': 'https://secure.actblue.com/donate/mt-ga?refcode=SignThePapers_Embed&amount=20.20'}}, 'embeddable': True, 'monetizable': False}}]}, metadata={'iso_language_code': 'en', 'result_type': 'recent'}, source='Twitter Media Studio', source_url='https://studio.twitter.com', in_reply_to_status_id=None, in_reply_to_status_id_str=None, in_reply_to_user_id=None, in_reply_to_user_id_str=None, in_reply_to_screen_name=None, author=User(_api=<tweepy.api.API object at 0x000001DDA90203A0>, _json={'id': 1243560408025198593, 'id_str': '1243560408025198593', 'name': 'MeidasTouch.com', 'screen_name': 'MeidasTouch', 'location': '', 'description': 'Producing the most hard-hitting and impactful political videos and content. Because truth is golden. Donate https://t.co/5LBp5m7F0u', 'url': 'https://t.co/R8saJm6byv', 'entities': {'url': {'urls': [{'url': 'https://t.co/R8saJm6byv', 'expanded_url': 'https://www.meidastouch.com', 'display_url': 'meidastouch.com', 'indices': [0, 23]}]}, 'description': {'urls': [{'url': 'https://t.co/5LBp5m7F0u', 'expanded_url': 'https://secure.actblue.com/donate/meidastouch/', 'display_url': 'secure.actblue.com/donate/meidast…', 'indices': [108, 131]}]}}, 'protected': False, 'followers_count': 510841, 'friends_count': 742, 'listed_count': 1684, 'created_at': 'Fri Mar 27 15:28:09 +0000 2020', 'favourites_count': 25448, 'utc_offset': None, 'time_zone': None, 'geo_enabled': False, 'verified': False, 'statuses_count': 29371, 'lang': None, 'contributors_enabled': False, 'is_translator': False, 'is_translation_enabled': False, 'profile_background_color': 'F5F8FA', 'profile_background_image_url': None, 'profile_background_image_url_https': None, 'profile_background_tile': False, 'profile_image_url': 'http://pbs.twimg.com/profile_images/1248738664860889088/Qst2VjNl_normal.jpg', 'profile_image_url_https': 'https://pbs.twimg.com/profile_images/1248738664860889088/Qst2VjNl_normal.jpg', 'profile_banner_url': 'https://pbs.twimg.com/profile_banners/1243560408025198593/1594760162', 'profile_link_color': '1DA1F2', 'profile_sidebar_border_color': 'C0DEED', 'profile_sidebar_fill_color': 'DDEEF6', 'profile_text_color': '333333', 'profile_use_background_image': True, 'has_extended_profile': True, 'default_profile': True, 'default_profile_image': False, 'following': False, 'follow_request_sent': False, 'notifications': False, 'translator_type': 'none'}, id=1243560408025198593, id_str='1243560408025198593', name='MeidasTouch.com', screen_name='MeidasTouch', location='', description='Producing the most hard-hitting and impactful political videos and content. Because truth is golden. Donate https://t.co/5LBp5m7F0u', url='https://t.co/R8saJm6byv', entities={'url': {'urls': [{'url': 'https://t.co/R8saJm6byv', 'expanded_url': 'https://www.meidastouch.com', 'display_url': 'meidastouch.com', 'indices': [0, 23]}]}, 'description': {'urls': [{'url': 'https://t.co/5LBp5m7F0u', 'expanded_url': 'https://secure.actblue.com/donate/meidastouch/', 'display_url': 'secure.actblue.com/donate/meidast…', 'indices': [108, 131]}]}}, protected=False, followers_count=510841, friends_count=742, listed_count=1684, created_at=datetime.datetime(2020, 3, 27, 15, 28, 9), favourites_count=25448, utc_offset=None, time_zone=None, geo_enabled=False, verified=False, statuses_count=29371, lang=None, contributors_enabled=False, is_translator=False, is_translation_enabled=False, profile_background_color='F5F8FA', profile_background_image_url=None, profile_background_image_url_https=None, profile_background_tile=False, profile_image_url='http://pbs.twimg.com/profile_images/1248738664860889088/Qst2VjNl_normal.jpg', profile_image_url_https='https://pbs.twimg.com/profile_images/1248738664860889088/Qst2VjNl_normal.jpg', profile_banner_url='https://pbs.twimg.com/profile_banners/1243560408025198593/1594760162', profile_link_color='1DA1F2', profile_sidebar_border_color='C0DEED', profile_sidebar_fill_color='DDEEF6', profile_text_color='333333', profile_use_background_image=True, has_extended_profile=True, default_profile=True, default_profile_image=False, following=False, follow_request_sent=False, notifications=False, translator_type='none'), user=User(_api=<tweepy.api.API object at 0x000001DDA90203A0>, _json={'id': 1243560408025198593, 'id_str': '1243560408025198593', 'name': 'MeidasTouch.com', 'screen_name': 'MeidasTouch', 'location': '', 'description': 'Producing the most hard-hitting and impactful political videos and content. Because truth is golden. Donate https://t.co/5LBp5m7F0u', 'url': 'https://t.co/R8saJm6byv', 'entities': {'url': {'urls': [{'url': 'https://t.co/R8saJm6byv', 'expanded_url': 'https://www.meidastouch.com', 'display_url': 'meidastouch.com', 'indices': [0, 23]}]}, 'description': {'urls': [{'url': 'https://t.co/5LBp5m7F0u', 'expanded_url': 'https://secure.actblue.com/donate/meidastouch/', 'display_url': 'secure.actblue.com/donate/meidast…', 'indices': [108, 131]}]}}, 'protected': False, 'followers_count': 510841, 'friends_count': 742, 'listed_count': 1684, 'created_at': 'Fri Mar 27 15:28:09 +0000 2020', 'favourites_count': 25448, 'utc_offset': None, 'time_zone': None, 'geo_enabled': False, 'verified': False, 'statuses_count': 29371, 'lang': None, 'contributors_enabled': False, 'is_translator': False, 'is_translation_enabled': False, 'profile_background_color': 'F5F8FA', 'profile_background_image_url': None, 'profile_background_image_url_https': None, 'profile_background_tile': False, 'profile_image_url': 'http://pbs.twimg.com/profile_images/1248738664860889088/Qst2VjNl_normal.jpg', 'profile_image_url_https': 'https://pbs.twimg.com/profile_images/1248738664860889088/Qst2VjNl_normal.jpg', 'profile_banner_url': 'https://pbs.twimg.com/profile_banners/1243560408025198593/1594760162', 'profile_link_color': '1DA1F2', 'profile_sidebar_border_color': 'C0DEED', 'profile_sidebar_fill_color': 'DDEEF6', 'profile_text_color': '333333', 'profile_use_background_image': True, 'has_extended_profile': True, 'default_profile': True, 'default_profile_image': False, 'following': False, 'follow_request_sent': False, 'notifications': False, 'translator_type': 'none'}, id=1243560408025198593, id_str='1243560408025198593', name='MeidasTouch.com', screen_name='MeidasTouch', location='', description='Producing the most hard-hitting and impactful political videos and content. Because truth is golden. Donate https://t.co/5LBp5m7F0u', url='https://t.co/R8saJm6byv', entities={'url': {'urls': [{'url': 'https://t.co/R8saJm6byv', 'expanded_url': 'https://www.meidastouch.com', 'display_url': 'meidastouch.com', 'indices': [0, 23]}]}, 'description': {'urls': [{'url': 'https://t.co/5LBp5m7F0u', 'expanded_url': 'https://secure.actblue.com/donate/meidastouch/', 'display_url': 'secure.actblue.com/donate/meidast…', 'indices': [108, 131]}]}}, protected=False, followers_count=510841, friends_count=742, listed_count=1684, created_at=datetime.datetime(2020, 3, 27, 15, 28, 9), favourites_count=25448, utc_offset=None, time_zone=None, geo_enabled=False, verified=False, statuses_count=29371, lang=None, contributors_enabled=False, is_translator=False, is_translation_enabled=False, profile_background_color='F5F8FA', profile_background_image_url=None, profile_background_image_url_https=None, profile_background_tile=False, profile_image_url='http://pbs.twimg.com/profile_images/1248738664860889088/Qst2VjNl_normal.jpg', profile_image_url_https='https://pbs.twimg.com/profile_images/1248738664860889088/Qst2VjNl_normal.jpg', profile_banner_url='https://pbs.twimg.com/profile_banners/1243560408025198593/1594760162', profile_link_color='1DA1F2', profile_sidebar_border_color='C0DEED', profile_sidebar_fill_color='DDEEF6', profile_text_color='333333', profile_use_background_image=True, has_extended_profile=True, default_profile=True, default_profile_image=False, following=False, follow_request_sent=False, notifications=False, translator_type='none'), geo=None, coordinates=None, place=None, contributors=None, is_quote_status=False, retweet_count=13743, favorite_count=28800, favorited=False, retweeted=False, possibly_sensitive=False, lang='en'), retweet_count=2, favorite_count=4, favorited=False, retweeted=False, possibly_sensitive=False, lang='en') \n",
      "\n",
      ".....................................\n",
      "\n",
      "Status(_api=<tweepy.api.API object at 0x000001DDA90203A0>, _json={'created_at': 'Tue Nov 17 18:50:02 +0000 2020', 'id': 1328772399341264897, 'id_str': '1328772399341264897', 'full_text': \"@AlexNijboer @TheTweetOfGod No I mean Trump has to legally prove a non-existent vote fraud to render this election null. And then conduct a re-election AND win. Like I don't understand why Biden supporters are even concerned, Trump winning is next to impossible.\", 'truncated': False, 'display_text_range': [28, 262], 'entities': {'hashtags': [], 'symbols': [], 'user_mentions': [{'screen_name': 'AlexNijboer', 'name': 'AlexNijboer', 'id': 435130065, 'id_str': '435130065', 'indices': [0, 12]}, {'screen_name': 'TheTweetOfGod', 'name': 'God', 'id': 204832963, 'id_str': '204832963', 'indices': [13, 27]}], 'urls': []}, 'metadata': {'iso_language_code': 'en', 'result_type': 'recent'}, 'source': '<a href=\"http://twitter.com/download/android\" rel=\"nofollow\">Twitter for Android</a>', 'in_reply_to_status_id': 1328763858597666816, 'in_reply_to_status_id_str': '1328763858597666816', 'in_reply_to_user_id': 435130065, 'in_reply_to_user_id_str': '435130065', 'in_reply_to_screen_name': 'AlexNijboer', 'user': {'id': 1100737777359032320, 'id_str': '1100737777359032320', 'name': 'Missing Patel', 'screen_name': 'missing_patel', 'location': '', 'description': \"Please don't judge my over-indulgence in porn and animals.\", 'url': None, 'entities': {'description': {'urls': []}}, 'protected': False, 'followers_count': 9, 'friends_count': 364, 'listed_count': 0, 'created_at': 'Wed Feb 27 12:41:51 +0000 2019', 'favourites_count': 1357, 'utc_offset': None, 'time_zone': None, 'geo_enabled': False, 'verified': False, 'statuses_count': 316, 'lang': None, 'contributors_enabled': False, 'is_translator': False, 'is_translation_enabled': False, 'profile_background_color': '000000', 'profile_background_image_url': 'http://abs.twimg.com/images/themes/theme1/bg.png', 'profile_background_image_url_https': 'https://abs.twimg.com/images/themes/theme1/bg.png', 'profile_background_tile': False, 'profile_image_url': 'http://pbs.twimg.com/profile_images/1196627300990607361/vkrt5qwF_normal.jpg', 'profile_image_url_https': 'https://pbs.twimg.com/profile_images/1196627300990607361/vkrt5qwF_normal.jpg', 'profile_banner_url': 'https://pbs.twimg.com/profile_banners/1100737777359032320/1574133131', 'profile_link_color': '981CEB', 'profile_sidebar_border_color': '000000', 'profile_sidebar_fill_color': '000000', 'profile_text_color': '000000', 'profile_use_background_image': False, 'has_extended_profile': True, 'default_profile': False, 'default_profile_image': False, 'following': False, 'follow_request_sent': False, 'notifications': False, 'translator_type': 'none'}, 'geo': None, 'coordinates': None, 'place': None, 'contributors': None, 'is_quote_status': False, 'retweet_count': 0, 'favorite_count': 0, 'favorited': False, 'retweeted': False, 'lang': 'en'}, created_at=datetime.datetime(2020, 11, 17, 18, 50, 2), id=1328772399341264897, id_str='1328772399341264897', full_text=\"@AlexNijboer @TheTweetOfGod No I mean Trump has to legally prove a non-existent vote fraud to render this election null. And then conduct a re-election AND win. Like I don't understand why Biden supporters are even concerned, Trump winning is next to impossible.\", truncated=False, display_text_range=[28, 262], entities={'hashtags': [], 'symbols': [], 'user_mentions': [{'screen_name': 'AlexNijboer', 'name': 'AlexNijboer', 'id': 435130065, 'id_str': '435130065', 'indices': [0, 12]}, {'screen_name': 'TheTweetOfGod', 'name': 'God', 'id': 204832963, 'id_str': '204832963', 'indices': [13, 27]}], 'urls': []}, metadata={'iso_language_code': 'en', 'result_type': 'recent'}, source='Twitter for Android', source_url='http://twitter.com/download/android', in_reply_to_status_id=1328763858597666816, in_reply_to_status_id_str='1328763858597666816', in_reply_to_user_id=435130065, in_reply_to_user_id_str='435130065', in_reply_to_screen_name='AlexNijboer', author=User(_api=<tweepy.api.API object at 0x000001DDA90203A0>, _json={'id': 1100737777359032320, 'id_str': '1100737777359032320', 'name': 'Missing Patel', 'screen_name': 'missing_patel', 'location': '', 'description': \"Please don't judge my over-indulgence in porn and animals.\", 'url': None, 'entities': {'description': {'urls': []}}, 'protected': False, 'followers_count': 9, 'friends_count': 364, 'listed_count': 0, 'created_at': 'Wed Feb 27 12:41:51 +0000 2019', 'favourites_count': 1357, 'utc_offset': None, 'time_zone': None, 'geo_enabled': False, 'verified': False, 'statuses_count': 316, 'lang': None, 'contributors_enabled': False, 'is_translator': False, 'is_translation_enabled': False, 'profile_background_color': '000000', 'profile_background_image_url': 'http://abs.twimg.com/images/themes/theme1/bg.png', 'profile_background_image_url_https': 'https://abs.twimg.com/images/themes/theme1/bg.png', 'profile_background_tile': False, 'profile_image_url': 'http://pbs.twimg.com/profile_images/1196627300990607361/vkrt5qwF_normal.jpg', 'profile_image_url_https': 'https://pbs.twimg.com/profile_images/1196627300990607361/vkrt5qwF_normal.jpg', 'profile_banner_url': 'https://pbs.twimg.com/profile_banners/1100737777359032320/1574133131', 'profile_link_color': '981CEB', 'profile_sidebar_border_color': '000000', 'profile_sidebar_fill_color': '000000', 'profile_text_color': '000000', 'profile_use_background_image': False, 'has_extended_profile': True, 'default_profile': False, 'default_profile_image': False, 'following': False, 'follow_request_sent': False, 'notifications': False, 'translator_type': 'none'}, id=1100737777359032320, id_str='1100737777359032320', name='Missing Patel', screen_name='missing_patel', location='', description=\"Please don't judge my over-indulgence in porn and animals.\", url=None, entities={'description': {'urls': []}}, protected=False, followers_count=9, friends_count=364, listed_count=0, created_at=datetime.datetime(2019, 2, 27, 12, 41, 51), favourites_count=1357, utc_offset=None, time_zone=None, geo_enabled=False, verified=False, statuses_count=316, lang=None, contributors_enabled=False, is_translator=False, is_translation_enabled=False, profile_background_color='000000', profile_background_image_url='http://abs.twimg.com/images/themes/theme1/bg.png', profile_background_image_url_https='https://abs.twimg.com/images/themes/theme1/bg.png', profile_background_tile=False, profile_image_url='http://pbs.twimg.com/profile_images/1196627300990607361/vkrt5qwF_normal.jpg', profile_image_url_https='https://pbs.twimg.com/profile_images/1196627300990607361/vkrt5qwF_normal.jpg', profile_banner_url='https://pbs.twimg.com/profile_banners/1100737777359032320/1574133131', profile_link_color='981CEB', profile_sidebar_border_color='000000', profile_sidebar_fill_color='000000', profile_text_color='000000', profile_use_background_image=False, has_extended_profile=True, default_profile=False, default_profile_image=False, following=False, follow_request_sent=False, notifications=False, translator_type='none'), user=User(_api=<tweepy.api.API object at 0x000001DDA90203A0>, _json={'id': 1100737777359032320, 'id_str': '1100737777359032320', 'name': 'Missing Patel', 'screen_name': 'missing_patel', 'location': '', 'description': \"Please don't judge my over-indulgence in porn and animals.\", 'url': None, 'entities': {'description': {'urls': []}}, 'protected': False, 'followers_count': 9, 'friends_count': 364, 'listed_count': 0, 'created_at': 'Wed Feb 27 12:41:51 +0000 2019', 'favourites_count': 1357, 'utc_offset': None, 'time_zone': None, 'geo_enabled': False, 'verified': False, 'statuses_count': 316, 'lang': None, 'contributors_enabled': False, 'is_translator': False, 'is_translation_enabled': False, 'profile_background_color': '000000', 'profile_background_image_url': 'http://abs.twimg.com/images/themes/theme1/bg.png', 'profile_background_image_url_https': 'https://abs.twimg.com/images/themes/theme1/bg.png', 'profile_background_tile': False, 'profile_image_url': 'http://pbs.twimg.com/profile_images/1196627300990607361/vkrt5qwF_normal.jpg', 'profile_image_url_https': 'https://pbs.twimg.com/profile_images/1196627300990607361/vkrt5qwF_normal.jpg', 'profile_banner_url': 'https://pbs.twimg.com/profile_banners/1100737777359032320/1574133131', 'profile_link_color': '981CEB', 'profile_sidebar_border_color': '000000', 'profile_sidebar_fill_color': '000000', 'profile_text_color': '000000', 'profile_use_background_image': False, 'has_extended_profile': True, 'default_profile': False, 'default_profile_image': False, 'following': False, 'follow_request_sent': False, 'notifications': False, 'translator_type': 'none'}, id=1100737777359032320, id_str='1100737777359032320', name='Missing Patel', screen_name='missing_patel', location='', description=\"Please don't judge my over-indulgence in porn and animals.\", url=None, entities={'description': {'urls': []}}, protected=False, followers_count=9, friends_count=364, listed_count=0, created_at=datetime.datetime(2019, 2, 27, 12, 41, 51), favourites_count=1357, utc_offset=None, time_zone=None, geo_enabled=False, verified=False, statuses_count=316, lang=None, contributors_enabled=False, is_translator=False, is_translation_enabled=False, profile_background_color='000000', profile_background_image_url='http://abs.twimg.com/images/themes/theme1/bg.png', profile_background_image_url_https='https://abs.twimg.com/images/themes/theme1/bg.png', profile_background_tile=False, profile_image_url='http://pbs.twimg.com/profile_images/1196627300990607361/vkrt5qwF_normal.jpg', profile_image_url_https='https://pbs.twimg.com/profile_images/1196627300990607361/vkrt5qwF_normal.jpg', profile_banner_url='https://pbs.twimg.com/profile_banners/1100737777359032320/1574133131', profile_link_color='981CEB', profile_sidebar_border_color='000000', profile_sidebar_fill_color='000000', profile_text_color='000000', profile_use_background_image=False, has_extended_profile=True, default_profile=False, default_profile_image=False, following=False, follow_request_sent=False, notifications=False, translator_type='none'), geo=None, coordinates=None, place=None, contributors=None, is_quote_status=False, retweet_count=0, favorite_count=0, favorited=False, retweeted=False, lang='en') \n",
      "\n",
      ".....................................\n",
      "\n",
      "Status(_api=<tweepy.api.API object at 0x000001DDA90203A0>, _json={'created_at': 'Tue Nov 17 18:49:07 +0000 2020', 'id': 1328772169778728960, 'id_str': '1328772169778728960', 'full_text': '@JimMFelton Plane windows: dumpster fire of this year\\nMan holding ankles: Biden winning election\\nPilot trying to get back to normal: Everyone frantically putting up their Christmas lights on 1st November', 'truncated': False, 'display_text_range': [12, 203], 'entities': {'hashtags': [], 'symbols': [], 'user_mentions': [{'screen_name': 'JimMFelton', 'name': 'James Felton', 'id': 2904913023, 'id_str': '2904913023', 'indices': [0, 11]}], 'urls': []}, 'metadata': {'iso_language_code': 'en', 'result_type': 'recent'}, 'source': '<a href=\"http://twitter.com/download/iphone\" rel=\"nofollow\">Twitter for iPhone</a>', 'in_reply_to_status_id': 1328698065218310145, 'in_reply_to_status_id_str': '1328698065218310145', 'in_reply_to_user_id': 2904913023, 'in_reply_to_user_id_str': '2904913023', 'in_reply_to_screen_name': 'JimMFelton', 'user': {'id': 805202385438130176, 'id_str': '805202385438130176', 'name': 'cassie.687', 'screen_name': 'cassieS232', 'location': '', 'description': '', 'url': None, 'entities': {'description': {'urls': []}}, 'protected': False, 'followers_count': 8, 'friends_count': 177, 'listed_count': 1, 'created_at': 'Sun Dec 04 00:09:43 +0000 2016', 'favourites_count': 3469, 'utc_offset': None, 'time_zone': None, 'geo_enabled': False, 'verified': False, 'statuses_count': 483, 'lang': None, 'contributors_enabled': False, 'is_translator': False, 'is_translation_enabled': False, 'profile_background_color': 'F5F8FA', 'profile_background_image_url': None, 'profile_background_image_url_https': None, 'profile_background_tile': False, 'profile_image_url': 'http://pbs.twimg.com/profile_images/1207453603222478848/RZLGxCFV_normal.jpg', 'profile_image_url_https': 'https://pbs.twimg.com/profile_images/1207453603222478848/RZLGxCFV_normal.jpg', 'profile_banner_url': 'https://pbs.twimg.com/profile_banners/805202385438130176/1596572242', 'profile_link_color': '1DA1F2', 'profile_sidebar_border_color': 'C0DEED', 'profile_sidebar_fill_color': 'DDEEF6', 'profile_text_color': '333333', 'profile_use_background_image': True, 'has_extended_profile': False, 'default_profile': True, 'default_profile_image': False, 'following': False, 'follow_request_sent': False, 'notifications': False, 'translator_type': 'none'}, 'geo': None, 'coordinates': None, 'place': None, 'contributors': None, 'is_quote_status': False, 'retweet_count': 0, 'favorite_count': 0, 'favorited': False, 'retweeted': False, 'lang': 'en'}, created_at=datetime.datetime(2020, 11, 17, 18, 49, 7), id=1328772169778728960, id_str='1328772169778728960', full_text='@JimMFelton Plane windows: dumpster fire of this year\\nMan holding ankles: Biden winning election\\nPilot trying to get back to normal: Everyone frantically putting up their Christmas lights on 1st November', truncated=False, display_text_range=[12, 203], entities={'hashtags': [], 'symbols': [], 'user_mentions': [{'screen_name': 'JimMFelton', 'name': 'James Felton', 'id': 2904913023, 'id_str': '2904913023', 'indices': [0, 11]}], 'urls': []}, metadata={'iso_language_code': 'en', 'result_type': 'recent'}, source='Twitter for iPhone', source_url='http://twitter.com/download/iphone', in_reply_to_status_id=1328698065218310145, in_reply_to_status_id_str='1328698065218310145', in_reply_to_user_id=2904913023, in_reply_to_user_id_str='2904913023', in_reply_to_screen_name='JimMFelton', author=User(_api=<tweepy.api.API object at 0x000001DDA90203A0>, _json={'id': 805202385438130176, 'id_str': '805202385438130176', 'name': 'cassie.687', 'screen_name': 'cassieS232', 'location': '', 'description': '', 'url': None, 'entities': {'description': {'urls': []}}, 'protected': False, 'followers_count': 8, 'friends_count': 177, 'listed_count': 1, 'created_at': 'Sun Dec 04 00:09:43 +0000 2016', 'favourites_count': 3469, 'utc_offset': None, 'time_zone': None, 'geo_enabled': False, 'verified': False, 'statuses_count': 483, 'lang': None, 'contributors_enabled': False, 'is_translator': False, 'is_translation_enabled': False, 'profile_background_color': 'F5F8FA', 'profile_background_image_url': None, 'profile_background_image_url_https': None, 'profile_background_tile': False, 'profile_image_url': 'http://pbs.twimg.com/profile_images/1207453603222478848/RZLGxCFV_normal.jpg', 'profile_image_url_https': 'https://pbs.twimg.com/profile_images/1207453603222478848/RZLGxCFV_normal.jpg', 'profile_banner_url': 'https://pbs.twimg.com/profile_banners/805202385438130176/1596572242', 'profile_link_color': '1DA1F2', 'profile_sidebar_border_color': 'C0DEED', 'profile_sidebar_fill_color': 'DDEEF6', 'profile_text_color': '333333', 'profile_use_background_image': True, 'has_extended_profile': False, 'default_profile': True, 'default_profile_image': False, 'following': False, 'follow_request_sent': False, 'notifications': False, 'translator_type': 'none'}, id=805202385438130176, id_str='805202385438130176', name='cassie.687', screen_name='cassieS232', location='', description='', url=None, entities={'description': {'urls': []}}, protected=False, followers_count=8, friends_count=177, listed_count=1, created_at=datetime.datetime(2016, 12, 4, 0, 9, 43), favourites_count=3469, utc_offset=None, time_zone=None, geo_enabled=False, verified=False, statuses_count=483, lang=None, contributors_enabled=False, is_translator=False, is_translation_enabled=False, profile_background_color='F5F8FA', profile_background_image_url=None, profile_background_image_url_https=None, profile_background_tile=False, profile_image_url='http://pbs.twimg.com/profile_images/1207453603222478848/RZLGxCFV_normal.jpg', profile_image_url_https='https://pbs.twimg.com/profile_images/1207453603222478848/RZLGxCFV_normal.jpg', profile_banner_url='https://pbs.twimg.com/profile_banners/805202385438130176/1596572242', profile_link_color='1DA1F2', profile_sidebar_border_color='C0DEED', profile_sidebar_fill_color='DDEEF6', profile_text_color='333333', profile_use_background_image=True, has_extended_profile=False, default_profile=True, default_profile_image=False, following=False, follow_request_sent=False, notifications=False, translator_type='none'), user=User(_api=<tweepy.api.API object at 0x000001DDA90203A0>, _json={'id': 805202385438130176, 'id_str': '805202385438130176', 'name': 'cassie.687', 'screen_name': 'cassieS232', 'location': '', 'description': '', 'url': None, 'entities': {'description': {'urls': []}}, 'protected': False, 'followers_count': 8, 'friends_count': 177, 'listed_count': 1, 'created_at': 'Sun Dec 04 00:09:43 +0000 2016', 'favourites_count': 3469, 'utc_offset': None, 'time_zone': None, 'geo_enabled': False, 'verified': False, 'statuses_count': 483, 'lang': None, 'contributors_enabled': False, 'is_translator': False, 'is_translation_enabled': False, 'profile_background_color': 'F5F8FA', 'profile_background_image_url': None, 'profile_background_image_url_https': None, 'profile_background_tile': False, 'profile_image_url': 'http://pbs.twimg.com/profile_images/1207453603222478848/RZLGxCFV_normal.jpg', 'profile_image_url_https': 'https://pbs.twimg.com/profile_images/1207453603222478848/RZLGxCFV_normal.jpg', 'profile_banner_url': 'https://pbs.twimg.com/profile_banners/805202385438130176/1596572242', 'profile_link_color': '1DA1F2', 'profile_sidebar_border_color': 'C0DEED', 'profile_sidebar_fill_color': 'DDEEF6', 'profile_text_color': '333333', 'profile_use_background_image': True, 'has_extended_profile': False, 'default_profile': True, 'default_profile_image': False, 'following': False, 'follow_request_sent': False, 'notifications': False, 'translator_type': 'none'}, id=805202385438130176, id_str='805202385438130176', name='cassie.687', screen_name='cassieS232', location='', description='', url=None, entities={'description': {'urls': []}}, protected=False, followers_count=8, friends_count=177, listed_count=1, created_at=datetime.datetime(2016, 12, 4, 0, 9, 43), favourites_count=3469, utc_offset=None, time_zone=None, geo_enabled=False, verified=False, statuses_count=483, lang=None, contributors_enabled=False, is_translator=False, is_translation_enabled=False, profile_background_color='F5F8FA', profile_background_image_url=None, profile_background_image_url_https=None, profile_background_tile=False, profile_image_url='http://pbs.twimg.com/profile_images/1207453603222478848/RZLGxCFV_normal.jpg', profile_image_url_https='https://pbs.twimg.com/profile_images/1207453603222478848/RZLGxCFV_normal.jpg', profile_banner_url='https://pbs.twimg.com/profile_banners/805202385438130176/1596572242', profile_link_color='1DA1F2', profile_sidebar_border_color='C0DEED', profile_sidebar_fill_color='DDEEF6', profile_text_color='333333', profile_use_background_image=True, has_extended_profile=False, default_profile=True, default_profile_image=False, following=False, follow_request_sent=False, notifications=False, translator_type='none'), geo=None, coordinates=None, place=None, contributors=None, is_quote_status=False, retweet_count=0, favorite_count=0, favorited=False, retweeted=False, lang='en') \n",
      "\n",
      ".....................................\n",
      "\n",
      "Status(_api=<tweepy.api.API object at 0x000001DDA90203A0>, _json={'created_at': 'Tue Nov 17 18:46:52 +0000 2020', 'id': 1328771603325448193, 'id_str': '1328771603325448193', 'full_text': '@BillSpadea This tweet is clickbait for building your forget science brand. We have 4% of the world’s population and 20% of the corona deaths. Even the Governor of North Dakota is mandating masks. Yet you talk about masks being bad and Biden not winning the election. Truth matters sir.', 'truncated': False, 'display_text_range': [12, 286], 'entities': {'hashtags': [], 'symbols': [], 'user_mentions': [{'screen_name': 'BillSpadea', 'name': 'Bill Spadea', 'id': 23620357, 'id_str': '23620357', 'indices': [0, 11]}], 'urls': []}, 'metadata': {'iso_language_code': 'en', 'result_type': 'recent'}, 'source': '<a href=\"http://twitter.com/download/iphone\" rel=\"nofollow\">Twitter for iPhone</a>', 'in_reply_to_status_id': 1328335577037606916, 'in_reply_to_status_id_str': '1328335577037606916', 'in_reply_to_user_id': 23620357, 'in_reply_to_user_id_str': '23620357', 'in_reply_to_screen_name': 'BillSpadea', 'user': {'id': 44168196, 'id_str': '44168196', 'name': 'Amardeep Singh', 'screen_name': 'amarHoboken', 'location': 'Hoboken-NYC-DC', 'description': 'Senior Program Officer @opensociety. Bd Member @ACLUNJ. Co-Found @sikh_coalition. Powered by samosas. Views, all mine, and not that of any institution. TY.', 'url': None, 'entities': {'description': {'urls': []}}, 'protected': False, 'followers_count': 3460, 'friends_count': 789, 'listed_count': 63, 'created_at': 'Tue Jun 02 17:58:34 +0000 2009', 'favourites_count': 5348, 'utc_offset': None, 'time_zone': None, 'geo_enabled': True, 'verified': False, 'statuses_count': 7979, 'lang': None, 'contributors_enabled': False, 'is_translator': False, 'is_translation_enabled': False, 'profile_background_color': 'DBE9ED', 'profile_background_image_url': 'http://abs.twimg.com/images/themes/theme17/bg.gif', 'profile_background_image_url_https': 'https://abs.twimg.com/images/themes/theme17/bg.gif', 'profile_background_tile': False, 'profile_image_url': 'http://pbs.twimg.com/profile_images/862391852544217088/r1VkwyKy_normal.jpg', 'profile_image_url_https': 'https://pbs.twimg.com/profile_images/862391852544217088/r1VkwyKy_normal.jpg', 'profile_banner_url': 'https://pbs.twimg.com/profile_banners/44168196/1494364812', 'profile_link_color': 'CC3366', 'profile_sidebar_border_color': 'DBE9ED', 'profile_sidebar_fill_color': 'E6F6F9', 'profile_text_color': '333333', 'profile_use_background_image': True, 'has_extended_profile': False, 'default_profile': False, 'default_profile_image': False, 'following': False, 'follow_request_sent': False, 'notifications': False, 'translator_type': 'none'}, 'geo': None, 'coordinates': None, 'place': None, 'contributors': None, 'is_quote_status': False, 'retweet_count': 0, 'favorite_count': 0, 'favorited': False, 'retweeted': False, 'lang': 'en'}, created_at=datetime.datetime(2020, 11, 17, 18, 46, 52), id=1328771603325448193, id_str='1328771603325448193', full_text='@BillSpadea This tweet is clickbait for building your forget science brand. We have 4% of the world’s population and 20% of the corona deaths. Even the Governor of North Dakota is mandating masks. Yet you talk about masks being bad and Biden not winning the election. Truth matters sir.', truncated=False, display_text_range=[12, 286], entities={'hashtags': [], 'symbols': [], 'user_mentions': [{'screen_name': 'BillSpadea', 'name': 'Bill Spadea', 'id': 23620357, 'id_str': '23620357', 'indices': [0, 11]}], 'urls': []}, metadata={'iso_language_code': 'en', 'result_type': 'recent'}, source='Twitter for iPhone', source_url='http://twitter.com/download/iphone', in_reply_to_status_id=1328335577037606916, in_reply_to_status_id_str='1328335577037606916', in_reply_to_user_id=23620357, in_reply_to_user_id_str='23620357', in_reply_to_screen_name='BillSpadea', author=User(_api=<tweepy.api.API object at 0x000001DDA90203A0>, _json={'id': 44168196, 'id_str': '44168196', 'name': 'Amardeep Singh', 'screen_name': 'amarHoboken', 'location': 'Hoboken-NYC-DC', 'description': 'Senior Program Officer @opensociety. Bd Member @ACLUNJ. Co-Found @sikh_coalition. Powered by samosas. Views, all mine, and not that of any institution. TY.', 'url': None, 'entities': {'description': {'urls': []}}, 'protected': False, 'followers_count': 3460, 'friends_count': 789, 'listed_count': 63, 'created_at': 'Tue Jun 02 17:58:34 +0000 2009', 'favourites_count': 5348, 'utc_offset': None, 'time_zone': None, 'geo_enabled': True, 'verified': False, 'statuses_count': 7979, 'lang': None, 'contributors_enabled': False, 'is_translator': False, 'is_translation_enabled': False, 'profile_background_color': 'DBE9ED', 'profile_background_image_url': 'http://abs.twimg.com/images/themes/theme17/bg.gif', 'profile_background_image_url_https': 'https://abs.twimg.com/images/themes/theme17/bg.gif', 'profile_background_tile': False, 'profile_image_url': 'http://pbs.twimg.com/profile_images/862391852544217088/r1VkwyKy_normal.jpg', 'profile_image_url_https': 'https://pbs.twimg.com/profile_images/862391852544217088/r1VkwyKy_normal.jpg', 'profile_banner_url': 'https://pbs.twimg.com/profile_banners/44168196/1494364812', 'profile_link_color': 'CC3366', 'profile_sidebar_border_color': 'DBE9ED', 'profile_sidebar_fill_color': 'E6F6F9', 'profile_text_color': '333333', 'profile_use_background_image': True, 'has_extended_profile': False, 'default_profile': False, 'default_profile_image': False, 'following': False, 'follow_request_sent': False, 'notifications': False, 'translator_type': 'none'}, id=44168196, id_str='44168196', name='Amardeep Singh', screen_name='amarHoboken', location='Hoboken-NYC-DC', description='Senior Program Officer @opensociety. Bd Member @ACLUNJ. Co-Found @sikh_coalition. Powered by samosas. Views, all mine, and not that of any institution. TY.', url=None, entities={'description': {'urls': []}}, protected=False, followers_count=3460, friends_count=789, listed_count=63, created_at=datetime.datetime(2009, 6, 2, 17, 58, 34), favourites_count=5348, utc_offset=None, time_zone=None, geo_enabled=True, verified=False, statuses_count=7979, lang=None, contributors_enabled=False, is_translator=False, is_translation_enabled=False, profile_background_color='DBE9ED', profile_background_image_url='http://abs.twimg.com/images/themes/theme17/bg.gif', profile_background_image_url_https='https://abs.twimg.com/images/themes/theme17/bg.gif', profile_background_tile=False, profile_image_url='http://pbs.twimg.com/profile_images/862391852544217088/r1VkwyKy_normal.jpg', profile_image_url_https='https://pbs.twimg.com/profile_images/862391852544217088/r1VkwyKy_normal.jpg', profile_banner_url='https://pbs.twimg.com/profile_banners/44168196/1494364812', profile_link_color='CC3366', profile_sidebar_border_color='DBE9ED', profile_sidebar_fill_color='E6F6F9', profile_text_color='333333', profile_use_background_image=True, has_extended_profile=False, default_profile=False, default_profile_image=False, following=False, follow_request_sent=False, notifications=False, translator_type='none'), user=User(_api=<tweepy.api.API object at 0x000001DDA90203A0>, _json={'id': 44168196, 'id_str': '44168196', 'name': 'Amardeep Singh', 'screen_name': 'amarHoboken', 'location': 'Hoboken-NYC-DC', 'description': 'Senior Program Officer @opensociety. Bd Member @ACLUNJ. Co-Found @sikh_coalition. Powered by samosas. Views, all mine, and not that of any institution. TY.', 'url': None, 'entities': {'description': {'urls': []}}, 'protected': False, 'followers_count': 3460, 'friends_count': 789, 'listed_count': 63, 'created_at': 'Tue Jun 02 17:58:34 +0000 2009', 'favourites_count': 5348, 'utc_offset': None, 'time_zone': None, 'geo_enabled': True, 'verified': False, 'statuses_count': 7979, 'lang': None, 'contributors_enabled': False, 'is_translator': False, 'is_translation_enabled': False, 'profile_background_color': 'DBE9ED', 'profile_background_image_url': 'http://abs.twimg.com/images/themes/theme17/bg.gif', 'profile_background_image_url_https': 'https://abs.twimg.com/images/themes/theme17/bg.gif', 'profile_background_tile': False, 'profile_image_url': 'http://pbs.twimg.com/profile_images/862391852544217088/r1VkwyKy_normal.jpg', 'profile_image_url_https': 'https://pbs.twimg.com/profile_images/862391852544217088/r1VkwyKy_normal.jpg', 'profile_banner_url': 'https://pbs.twimg.com/profile_banners/44168196/1494364812', 'profile_link_color': 'CC3366', 'profile_sidebar_border_color': 'DBE9ED', 'profile_sidebar_fill_color': 'E6F6F9', 'profile_text_color': '333333', 'profile_use_background_image': True, 'has_extended_profile': False, 'default_profile': False, 'default_profile_image': False, 'following': False, 'follow_request_sent': False, 'notifications': False, 'translator_type': 'none'}, id=44168196, id_str='44168196', name='Amardeep Singh', screen_name='amarHoboken', location='Hoboken-NYC-DC', description='Senior Program Officer @opensociety. Bd Member @ACLUNJ. Co-Found @sikh_coalition. Powered by samosas. Views, all mine, and not that of any institution. TY.', url=None, entities={'description': {'urls': []}}, protected=False, followers_count=3460, friends_count=789, listed_count=63, created_at=datetime.datetime(2009, 6, 2, 17, 58, 34), favourites_count=5348, utc_offset=None, time_zone=None, geo_enabled=True, verified=False, statuses_count=7979, lang=None, contributors_enabled=False, is_translator=False, is_translation_enabled=False, profile_background_color='DBE9ED', profile_background_image_url='http://abs.twimg.com/images/themes/theme17/bg.gif', profile_background_image_url_https='https://abs.twimg.com/images/themes/theme17/bg.gif', profile_background_tile=False, profile_image_url='http://pbs.twimg.com/profile_images/862391852544217088/r1VkwyKy_normal.jpg', profile_image_url_https='https://pbs.twimg.com/profile_images/862391852544217088/r1VkwyKy_normal.jpg', profile_banner_url='https://pbs.twimg.com/profile_banners/44168196/1494364812', profile_link_color='CC3366', profile_sidebar_border_color='DBE9ED', profile_sidebar_fill_color='E6F6F9', profile_text_color='333333', profile_use_background_image=True, has_extended_profile=False, default_profile=False, default_profile_image=False, following=False, follow_request_sent=False, notifications=False, translator_type='none'), geo=None, coordinates=None, place=None, contributors=None, is_quote_status=False, retweet_count=0, favorite_count=0, favorited=False, retweeted=False, lang='en') \n",
      "\n",
      ".....................................\n",
      "\n",
      "Status(_api=<tweepy.api.API object at 0x000001DDA90203A0>, _json={'created_at': 'Tue Nov 17 18:41:04 +0000 2020', 'id': 1328770144663965696, 'id_str': '1328770144663965696', 'full_text': \"The election displayed the power of women. @KamalaHarris elected VP. 17 new women elected Republican members of Congress. Jen O'Malley Dillon was the winning campaign manager for @joebiden. @Speaker Pelosi re-elected in Calif. Women voted Biden by 55-44%. It was a pink wave. 🇺🇸\", 'truncated': False, 'display_text_range': [0, 278], 'entities': {'hashtags': [], 'symbols': [], 'user_mentions': [{'screen_name': 'KamalaHarris', 'name': 'Kamala Harris', 'id': 30354991, 'id_str': '30354991', 'indices': [43, 56]}, {'screen_name': 'JoeBiden', 'name': 'Joe Biden', 'id': 939091, 'id_str': '939091', 'indices': [179, 188]}, {'screen_name': 'speaker', 'name': 'speaker', 'id': 1012067005380194305, 'id_str': '1012067005380194305', 'indices': [190, 198]}], 'urls': []}, 'metadata': {'iso_language_code': 'en', 'result_type': 'recent'}, 'source': '<a href=\"https://mobile.twitter.com\" rel=\"nofollow\">Twitter Web App</a>', 'in_reply_to_status_id': None, 'in_reply_to_status_id_str': None, 'in_reply_to_user_id': None, 'in_reply_to_user_id_str': None, 'in_reply_to_screen_name': None, 'user': {'id': 896047477, 'id_str': '896047477', 'name': 'Tim Roemer', 'screen_name': 'Tim_Roemer', 'location': '', 'description': 'Former ambassador to India and congressman from Indiana. Co-Chair, Issue One. Proud Hoosier. SF Giants/49ers/Golden State Warriors fan. Father of 4 great kids.', 'url': None, 'entities': {'description': {'urls': []}}, 'protected': False, 'followers_count': 1280, 'friends_count': 76, 'listed_count': 24, 'created_at': 'Sun Oct 21 19:52:27 +0000 2012', 'favourites_count': 33, 'utc_offset': None, 'time_zone': None, 'geo_enabled': True, 'verified': False, 'statuses_count': 2071, 'lang': None, 'contributors_enabled': False, 'is_translator': False, 'is_translation_enabled': False, 'profile_background_color': 'C0DEED', 'profile_background_image_url': 'http://abs.twimg.com/images/themes/theme1/bg.png', 'profile_background_image_url_https': 'https://abs.twimg.com/images/themes/theme1/bg.png', 'profile_background_tile': False, 'profile_image_url': 'http://pbs.twimg.com/profile_images/2748197956/a59bccd6116e596682bdc3e8f99a7918_normal.jpeg', 'profile_image_url_https': 'https://pbs.twimg.com/profile_images/2748197956/a59bccd6116e596682bdc3e8f99a7918_normal.jpeg', 'profile_banner_url': 'https://pbs.twimg.com/profile_banners/896047477/1437582534', 'profile_link_color': '1DA1F2', 'profile_sidebar_border_color': 'C0DEED', 'profile_sidebar_fill_color': 'DDEEF6', 'profile_text_color': '333333', 'profile_use_background_image': True, 'has_extended_profile': True, 'default_profile': True, 'default_profile_image': False, 'following': False, 'follow_request_sent': False, 'notifications': False, 'translator_type': 'none'}, 'geo': None, 'coordinates': None, 'place': None, 'contributors': None, 'is_quote_status': False, 'retweet_count': 0, 'favorite_count': 0, 'favorited': False, 'retweeted': False, 'lang': 'en'}, created_at=datetime.datetime(2020, 11, 17, 18, 41, 4), id=1328770144663965696, id_str='1328770144663965696', full_text=\"The election displayed the power of women. @KamalaHarris elected VP. 17 new women elected Republican members of Congress. Jen O'Malley Dillon was the winning campaign manager for @joebiden. @Speaker Pelosi re-elected in Calif. Women voted Biden by 55-44%. It was a pink wave. 🇺🇸\", truncated=False, display_text_range=[0, 278], entities={'hashtags': [], 'symbols': [], 'user_mentions': [{'screen_name': 'KamalaHarris', 'name': 'Kamala Harris', 'id': 30354991, 'id_str': '30354991', 'indices': [43, 56]}, {'screen_name': 'JoeBiden', 'name': 'Joe Biden', 'id': 939091, 'id_str': '939091', 'indices': [179, 188]}, {'screen_name': 'speaker', 'name': 'speaker', 'id': 1012067005380194305, 'id_str': '1012067005380194305', 'indices': [190, 198]}], 'urls': []}, metadata={'iso_language_code': 'en', 'result_type': 'recent'}, source='Twitter Web App', source_url='https://mobile.twitter.com', in_reply_to_status_id=None, in_reply_to_status_id_str=None, in_reply_to_user_id=None, in_reply_to_user_id_str=None, in_reply_to_screen_name=None, author=User(_api=<tweepy.api.API object at 0x000001DDA90203A0>, _json={'id': 896047477, 'id_str': '896047477', 'name': 'Tim Roemer', 'screen_name': 'Tim_Roemer', 'location': '', 'description': 'Former ambassador to India and congressman from Indiana. Co-Chair, Issue One. Proud Hoosier. SF Giants/49ers/Golden State Warriors fan. Father of 4 great kids.', 'url': None, 'entities': {'description': {'urls': []}}, 'protected': False, 'followers_count': 1280, 'friends_count': 76, 'listed_count': 24, 'created_at': 'Sun Oct 21 19:52:27 +0000 2012', 'favourites_count': 33, 'utc_offset': None, 'time_zone': None, 'geo_enabled': True, 'verified': False, 'statuses_count': 2071, 'lang': None, 'contributors_enabled': False, 'is_translator': False, 'is_translation_enabled': False, 'profile_background_color': 'C0DEED', 'profile_background_image_url': 'http://abs.twimg.com/images/themes/theme1/bg.png', 'profile_background_image_url_https': 'https://abs.twimg.com/images/themes/theme1/bg.png', 'profile_background_tile': False, 'profile_image_url': 'http://pbs.twimg.com/profile_images/2748197956/a59bccd6116e596682bdc3e8f99a7918_normal.jpeg', 'profile_image_url_https': 'https://pbs.twimg.com/profile_images/2748197956/a59bccd6116e596682bdc3e8f99a7918_normal.jpeg', 'profile_banner_url': 'https://pbs.twimg.com/profile_banners/896047477/1437582534', 'profile_link_color': '1DA1F2', 'profile_sidebar_border_color': 'C0DEED', 'profile_sidebar_fill_color': 'DDEEF6', 'profile_text_color': '333333', 'profile_use_background_image': True, 'has_extended_profile': True, 'default_profile': True, 'default_profile_image': False, 'following': False, 'follow_request_sent': False, 'notifications': False, 'translator_type': 'none'}, id=896047477, id_str='896047477', name='Tim Roemer', screen_name='Tim_Roemer', location='', description='Former ambassador to India and congressman from Indiana. Co-Chair, Issue One. Proud Hoosier. SF Giants/49ers/Golden State Warriors fan. Father of 4 great kids.', url=None, entities={'description': {'urls': []}}, protected=False, followers_count=1280, friends_count=76, listed_count=24, created_at=datetime.datetime(2012, 10, 21, 19, 52, 27), favourites_count=33, utc_offset=None, time_zone=None, geo_enabled=True, verified=False, statuses_count=2071, lang=None, contributors_enabled=False, is_translator=False, is_translation_enabled=False, profile_background_color='C0DEED', profile_background_image_url='http://abs.twimg.com/images/themes/theme1/bg.png', profile_background_image_url_https='https://abs.twimg.com/images/themes/theme1/bg.png', profile_background_tile=False, profile_image_url='http://pbs.twimg.com/profile_images/2748197956/a59bccd6116e596682bdc3e8f99a7918_normal.jpeg', profile_image_url_https='https://pbs.twimg.com/profile_images/2748197956/a59bccd6116e596682bdc3e8f99a7918_normal.jpeg', profile_banner_url='https://pbs.twimg.com/profile_banners/896047477/1437582534', profile_link_color='1DA1F2', profile_sidebar_border_color='C0DEED', profile_sidebar_fill_color='DDEEF6', profile_text_color='333333', profile_use_background_image=True, has_extended_profile=True, default_profile=True, default_profile_image=False, following=False, follow_request_sent=False, notifications=False, translator_type='none'), user=User(_api=<tweepy.api.API object at 0x000001DDA90203A0>, _json={'id': 896047477, 'id_str': '896047477', 'name': 'Tim Roemer', 'screen_name': 'Tim_Roemer', 'location': '', 'description': 'Former ambassador to India and congressman from Indiana. Co-Chair, Issue One. Proud Hoosier. SF Giants/49ers/Golden State Warriors fan. Father of 4 great kids.', 'url': None, 'entities': {'description': {'urls': []}}, 'protected': False, 'followers_count': 1280, 'friends_count': 76, 'listed_count': 24, 'created_at': 'Sun Oct 21 19:52:27 +0000 2012', 'favourites_count': 33, 'utc_offset': None, 'time_zone': None, 'geo_enabled': True, 'verified': False, 'statuses_count': 2071, 'lang': None, 'contributors_enabled': False, 'is_translator': False, 'is_translation_enabled': False, 'profile_background_color': 'C0DEED', 'profile_background_image_url': 'http://abs.twimg.com/images/themes/theme1/bg.png', 'profile_background_image_url_https': 'https://abs.twimg.com/images/themes/theme1/bg.png', 'profile_background_tile': False, 'profile_image_url': 'http://pbs.twimg.com/profile_images/2748197956/a59bccd6116e596682bdc3e8f99a7918_normal.jpeg', 'profile_image_url_https': 'https://pbs.twimg.com/profile_images/2748197956/a59bccd6116e596682bdc3e8f99a7918_normal.jpeg', 'profile_banner_url': 'https://pbs.twimg.com/profile_banners/896047477/1437582534', 'profile_link_color': '1DA1F2', 'profile_sidebar_border_color': 'C0DEED', 'profile_sidebar_fill_color': 'DDEEF6', 'profile_text_color': '333333', 'profile_use_background_image': True, 'has_extended_profile': True, 'default_profile': True, 'default_profile_image': False, 'following': False, 'follow_request_sent': False, 'notifications': False, 'translator_type': 'none'}, id=896047477, id_str='896047477', name='Tim Roemer', screen_name='Tim_Roemer', location='', description='Former ambassador to India and congressman from Indiana. Co-Chair, Issue One. Proud Hoosier. SF Giants/49ers/Golden State Warriors fan. Father of 4 great kids.', url=None, entities={'description': {'urls': []}}, protected=False, followers_count=1280, friends_count=76, listed_count=24, created_at=datetime.datetime(2012, 10, 21, 19, 52, 27), favourites_count=33, utc_offset=None, time_zone=None, geo_enabled=True, verified=False, statuses_count=2071, lang=None, contributors_enabled=False, is_translator=False, is_translation_enabled=False, profile_background_color='C0DEED', profile_background_image_url='http://abs.twimg.com/images/themes/theme1/bg.png', profile_background_image_url_https='https://abs.twimg.com/images/themes/theme1/bg.png', profile_background_tile=False, profile_image_url='http://pbs.twimg.com/profile_images/2748197956/a59bccd6116e596682bdc3e8f99a7918_normal.jpeg', profile_image_url_https='https://pbs.twimg.com/profile_images/2748197956/a59bccd6116e596682bdc3e8f99a7918_normal.jpeg', profile_banner_url='https://pbs.twimg.com/profile_banners/896047477/1437582534', profile_link_color='1DA1F2', profile_sidebar_border_color='C0DEED', profile_sidebar_fill_color='DDEEF6', profile_text_color='333333', profile_use_background_image=True, has_extended_profile=True, default_profile=True, default_profile_image=False, following=False, follow_request_sent=False, notifications=False, translator_type='none'), geo=None, coordinates=None, place=None, contributors=None, is_quote_status=False, retweet_count=0, favorite_count=0, favorited=False, retweeted=False, lang='en') \n",
      "\n",
      ".....................................\n",
      "\n",
      "Status(_api=<tweepy.api.API object at 0x000001DDA90203A0>, _json={'created_at': 'Tue Nov 17 18:40:37 +0000 2020', 'id': 1328770032260681728, 'id_str': '1328770032260681728', 'full_text': '@realDonaldTrump Question :- If @realDonaldTrump won the election then how did @JoeBiden  become president?\\n\\nAnswer :- By magic 😂😂 \\n\\nLol, No doubt Biden becomes president by winning election 👍', 'truncated': False, 'display_text_range': [17, 192], 'entities': {'hashtags': [], 'symbols': [], 'user_mentions': [{'screen_name': 'realDonaldTrump', 'name': 'Donald J. Trump', 'id': 25073877, 'id_str': '25073877', 'indices': [0, 16]}, {'screen_name': 'realDonaldTrump', 'name': 'Donald J. Trump', 'id': 25073877, 'id_str': '25073877', 'indices': [32, 48]}, {'screen_name': 'JoeBiden', 'name': 'Joe Biden', 'id': 939091, 'id_str': '939091', 'indices': [79, 88]}], 'urls': []}, 'metadata': {'iso_language_code': 'en', 'result_type': 'recent'}, 'source': '<a href=\"http://twitter.com/download/android\" rel=\"nofollow\">Twitter for Android</a>', 'in_reply_to_status_id': 1328334945148952576, 'in_reply_to_status_id_str': '1328334945148952576', 'in_reply_to_user_id': 25073877, 'in_reply_to_user_id_str': '25073877', 'in_reply_to_screen_name': 'realDonaldTrump', 'user': {'id': 1223471680552689666, 'id_str': '1223471680552689666', 'name': '𝗦𝗮𝗻𝗷𝗮𝘆 𝗥𝗮𝘂𝘁 🏹', 'screen_name': 'RautSanjay41', 'location': 'Indian ', 'description': 'Prody A/c, Not affiliated with 𝐒𝐚𝐧𝐣𝐚𝐲 𝐑𝐚𝐮𝐭,\\nShayri & Politics Lover, Tweet & Views are personal, RT not endorsement', 'url': None, 'entities': {'description': {'urls': []}}, 'protected': False, 'followers_count': 3536, 'friends_count': 2765, 'listed_count': 2, 'created_at': 'Sat Feb 01 05:02:53 +0000 2020', 'favourites_count': 47509, 'utc_offset': None, 'time_zone': None, 'geo_enabled': False, 'verified': False, 'statuses_count': 17683, 'lang': None, 'contributors_enabled': False, 'is_translator': False, 'is_translation_enabled': False, 'profile_background_color': 'F5F8FA', 'profile_background_image_url': None, 'profile_background_image_url_https': None, 'profile_background_tile': False, 'profile_image_url': 'http://pbs.twimg.com/profile_images/1303337756886732803/clLY-6Y1_normal.jpg', 'profile_image_url_https': 'https://pbs.twimg.com/profile_images/1303337756886732803/clLY-6Y1_normal.jpg', 'profile_banner_url': 'https://pbs.twimg.com/profile_banners/1223471680552689666/1599574904', 'profile_link_color': '1DA1F2', 'profile_sidebar_border_color': 'C0DEED', 'profile_sidebar_fill_color': 'DDEEF6', 'profile_text_color': '333333', 'profile_use_background_image': True, 'has_extended_profile': True, 'default_profile': True, 'default_profile_image': False, 'following': False, 'follow_request_sent': False, 'notifications': False, 'translator_type': 'none'}, 'geo': None, 'coordinates': None, 'place': None, 'contributors': None, 'is_quote_status': False, 'retweet_count': 0, 'favorite_count': 1, 'favorited': False, 'retweeted': False, 'lang': 'en'}, created_at=datetime.datetime(2020, 11, 17, 18, 40, 37), id=1328770032260681728, id_str='1328770032260681728', full_text='@realDonaldTrump Question :- If @realDonaldTrump won the election then how did @JoeBiden  become president?\\n\\nAnswer :- By magic 😂😂 \\n\\nLol, No doubt Biden becomes president by winning election 👍', truncated=False, display_text_range=[17, 192], entities={'hashtags': [], 'symbols': [], 'user_mentions': [{'screen_name': 'realDonaldTrump', 'name': 'Donald J. Trump', 'id': 25073877, 'id_str': '25073877', 'indices': [0, 16]}, {'screen_name': 'realDonaldTrump', 'name': 'Donald J. Trump', 'id': 25073877, 'id_str': '25073877', 'indices': [32, 48]}, {'screen_name': 'JoeBiden', 'name': 'Joe Biden', 'id': 939091, 'id_str': '939091', 'indices': [79, 88]}], 'urls': []}, metadata={'iso_language_code': 'en', 'result_type': 'recent'}, source='Twitter for Android', source_url='http://twitter.com/download/android', in_reply_to_status_id=1328334945148952576, in_reply_to_status_id_str='1328334945148952576', in_reply_to_user_id=25073877, in_reply_to_user_id_str='25073877', in_reply_to_screen_name='realDonaldTrump', author=User(_api=<tweepy.api.API object at 0x000001DDA90203A0>, _json={'id': 1223471680552689666, 'id_str': '1223471680552689666', 'name': '𝗦𝗮𝗻𝗷𝗮𝘆 𝗥𝗮𝘂𝘁 🏹', 'screen_name': 'RautSanjay41', 'location': 'Indian ', 'description': 'Prody A/c, Not affiliated with 𝐒𝐚𝐧𝐣𝐚𝐲 𝐑𝐚𝐮𝐭,\\nShayri & Politics Lover, Tweet & Views are personal, RT not endorsement', 'url': None, 'entities': {'description': {'urls': []}}, 'protected': False, 'followers_count': 3536, 'friends_count': 2765, 'listed_count': 2, 'created_at': 'Sat Feb 01 05:02:53 +0000 2020', 'favourites_count': 47509, 'utc_offset': None, 'time_zone': None, 'geo_enabled': False, 'verified': False, 'statuses_count': 17683, 'lang': None, 'contributors_enabled': False, 'is_translator': False, 'is_translation_enabled': False, 'profile_background_color': 'F5F8FA', 'profile_background_image_url': None, 'profile_background_image_url_https': None, 'profile_background_tile': False, 'profile_image_url': 'http://pbs.twimg.com/profile_images/1303337756886732803/clLY-6Y1_normal.jpg', 'profile_image_url_https': 'https://pbs.twimg.com/profile_images/1303337756886732803/clLY-6Y1_normal.jpg', 'profile_banner_url': 'https://pbs.twimg.com/profile_banners/1223471680552689666/1599574904', 'profile_link_color': '1DA1F2', 'profile_sidebar_border_color': 'C0DEED', 'profile_sidebar_fill_color': 'DDEEF6', 'profile_text_color': '333333', 'profile_use_background_image': True, 'has_extended_profile': True, 'default_profile': True, 'default_profile_image': False, 'following': False, 'follow_request_sent': False, 'notifications': False, 'translator_type': 'none'}, id=1223471680552689666, id_str='1223471680552689666', name='𝗦𝗮𝗻𝗷𝗮𝘆 𝗥𝗮𝘂𝘁 🏹', screen_name='RautSanjay41', location='Indian ', description='Prody A/c, Not affiliated with 𝐒𝐚𝐧𝐣𝐚𝐲 𝐑𝐚𝐮𝐭,\\nShayri & Politics Lover, Tweet & Views are personal, RT not endorsement', url=None, entities={'description': {'urls': []}}, protected=False, followers_count=3536, friends_count=2765, listed_count=2, created_at=datetime.datetime(2020, 2, 1, 5, 2, 53), favourites_count=47509, utc_offset=None, time_zone=None, geo_enabled=False, verified=False, statuses_count=17683, lang=None, contributors_enabled=False, is_translator=False, is_translation_enabled=False, profile_background_color='F5F8FA', profile_background_image_url=None, profile_background_image_url_https=None, profile_background_tile=False, profile_image_url='http://pbs.twimg.com/profile_images/1303337756886732803/clLY-6Y1_normal.jpg', profile_image_url_https='https://pbs.twimg.com/profile_images/1303337756886732803/clLY-6Y1_normal.jpg', profile_banner_url='https://pbs.twimg.com/profile_banners/1223471680552689666/1599574904', profile_link_color='1DA1F2', profile_sidebar_border_color='C0DEED', profile_sidebar_fill_color='DDEEF6', profile_text_color='333333', profile_use_background_image=True, has_extended_profile=True, default_profile=True, default_profile_image=False, following=False, follow_request_sent=False, notifications=False, translator_type='none'), user=User(_api=<tweepy.api.API object at 0x000001DDA90203A0>, _json={'id': 1223471680552689666, 'id_str': '1223471680552689666', 'name': '𝗦𝗮𝗻𝗷𝗮𝘆 𝗥𝗮𝘂𝘁 🏹', 'screen_name': 'RautSanjay41', 'location': 'Indian ', 'description': 'Prody A/c, Not affiliated with 𝐒𝐚𝐧𝐣𝐚𝐲 𝐑𝐚𝐮𝐭,\\nShayri & Politics Lover, Tweet & Views are personal, RT not endorsement', 'url': None, 'entities': {'description': {'urls': []}}, 'protected': False, 'followers_count': 3536, 'friends_count': 2765, 'listed_count': 2, 'created_at': 'Sat Feb 01 05:02:53 +0000 2020', 'favourites_count': 47509, 'utc_offset': None, 'time_zone': None, 'geo_enabled': False, 'verified': False, 'statuses_count': 17683, 'lang': None, 'contributors_enabled': False, 'is_translator': False, 'is_translation_enabled': False, 'profile_background_color': 'F5F8FA', 'profile_background_image_url': None, 'profile_background_image_url_https': None, 'profile_background_tile': False, 'profile_image_url': 'http://pbs.twimg.com/profile_images/1303337756886732803/clLY-6Y1_normal.jpg', 'profile_image_url_https': 'https://pbs.twimg.com/profile_images/1303337756886732803/clLY-6Y1_normal.jpg', 'profile_banner_url': 'https://pbs.twimg.com/profile_banners/1223471680552689666/1599574904', 'profile_link_color': '1DA1F2', 'profile_sidebar_border_color': 'C0DEED', 'profile_sidebar_fill_color': 'DDEEF6', 'profile_text_color': '333333', 'profile_use_background_image': True, 'has_extended_profile': True, 'default_profile': True, 'default_profile_image': False, 'following': False, 'follow_request_sent': False, 'notifications': False, 'translator_type': 'none'}, id=1223471680552689666, id_str='1223471680552689666', name='𝗦𝗮𝗻𝗷𝗮𝘆 𝗥𝗮𝘂𝘁 🏹', screen_name='RautSanjay41', location='Indian ', description='Prody A/c, Not affiliated with 𝐒𝐚𝐧𝐣𝐚𝐲 𝐑𝐚𝐮𝐭,\\nShayri & Politics Lover, Tweet & Views are personal, RT not endorsement', url=None, entities={'description': {'urls': []}}, protected=False, followers_count=3536, friends_count=2765, listed_count=2, created_at=datetime.datetime(2020, 2, 1, 5, 2, 53), favourites_count=47509, utc_offset=None, time_zone=None, geo_enabled=False, verified=False, statuses_count=17683, lang=None, contributors_enabled=False, is_translator=False, is_translation_enabled=False, profile_background_color='F5F8FA', profile_background_image_url=None, profile_background_image_url_https=None, profile_background_tile=False, profile_image_url='http://pbs.twimg.com/profile_images/1303337756886732803/clLY-6Y1_normal.jpg', profile_image_url_https='https://pbs.twimg.com/profile_images/1303337756886732803/clLY-6Y1_normal.jpg', profile_banner_url='https://pbs.twimg.com/profile_banners/1223471680552689666/1599574904', profile_link_color='1DA1F2', profile_sidebar_border_color='C0DEED', profile_sidebar_fill_color='DDEEF6', profile_text_color='333333', profile_use_background_image=True, has_extended_profile=True, default_profile=True, default_profile_image=False, following=False, follow_request_sent=False, notifications=False, translator_type='none'), geo=None, coordinates=None, place=None, contributors=None, is_quote_status=False, retweet_count=0, favorite_count=1, favorited=False, retweeted=False, lang='en') \n",
      "\n",
      ".....................................\n",
      "\n",
      "Status(_api=<tweepy.api.API object at 0x000001DDA90203A0>, _json={'created_at': 'Tue Nov 17 18:37:23 +0000 2020', 'id': 1328769216594522112, 'id_str': '1328769216594522112', 'full_text': 'Jaida winning, then Shea and then Rump throwing a tantrum after his election covid party and Biden laughing at him on a press conference https://t.co/plQ97D59qa', 'truncated': False, 'display_text_range': [0, 136], 'entities': {'hashtags': [], 'symbols': [], 'user_mentions': [], 'urls': [{'url': 'https://t.co/plQ97D59qa', 'expanded_url': 'https://twitter.com/Grindr/status/1328768181284990976', 'display_url': 'twitter.com/Grindr/status/…', 'indices': [137, 160]}]}, 'metadata': {'iso_language_code': 'en', 'result_type': 'recent'}, 'source': '<a href=\"http://twitter.com/download/android\" rel=\"nofollow\">Twitter for Android</a>', 'in_reply_to_status_id': None, 'in_reply_to_status_id_str': None, 'in_reply_to_user_id': None, 'in_reply_to_user_id_str': None, 'in_reply_to_screen_name': None, 'user': {'id': 1709624192, 'id_str': '1709624192', 'name': 'David Strnad', 'screen_name': 'queerlyvolatile', 'location': '', 'description': 'Citizen of the Known universe. Techie, geek (nerd), millenial. / Located in the Middle of Europe. Planet Earth, Sol, the Milky Way. Estimated 10%.\\n/ Jinak česky', 'url': 'https://t.co/pZQVjRgW9U', 'entities': {'url': {'urls': [{'url': 'https://t.co/pZQVjRgW9U', 'expanded_url': 'https://geekcentrala.wordpress.com', 'display_url': 'geekcentrala.wordpress.com', 'indices': [0, 23]}]}, 'description': {'urls': []}}, 'protected': False, 'followers_count': 83, 'friends_count': 1055, 'listed_count': 0, 'created_at': 'Thu Aug 29 10:04:20 +0000 2013', 'favourites_count': 17235, 'utc_offset': None, 'time_zone': None, 'geo_enabled': False, 'verified': False, 'statuses_count': 2871, 'lang': None, 'contributors_enabled': False, 'is_translator': False, 'is_translation_enabled': False, 'profile_background_color': '000000', 'profile_background_image_url': 'http://abs.twimg.com/images/themes/theme1/bg.png', 'profile_background_image_url_https': 'https://abs.twimg.com/images/themes/theme1/bg.png', 'profile_background_tile': False, 'profile_image_url': 'http://pbs.twimg.com/profile_images/1327959440545484800/zqTz7JJl_normal.jpg', 'profile_image_url_https': 'https://pbs.twimg.com/profile_images/1327959440545484800/zqTz7JJl_normal.jpg', 'profile_banner_url': 'https://pbs.twimg.com/profile_banners/1709624192/1605445351', 'profile_link_color': 'FAB81E', 'profile_sidebar_border_color': '000000', 'profile_sidebar_fill_color': '000000', 'profile_text_color': '000000', 'profile_use_background_image': False, 'has_extended_profile': False, 'default_profile': False, 'default_profile_image': False, 'following': False, 'follow_request_sent': False, 'notifications': False, 'translator_type': 'none'}, 'geo': None, 'coordinates': None, 'place': None, 'contributors': None, 'is_quote_status': True, 'quoted_status_id': 1328768181284990976, 'quoted_status_id_str': '1328768181284990976', 'quoted_status': {'created_at': 'Tue Nov 17 18:33:16 +0000 2020', 'id': 1328768181284990976, 'id_str': '1328768181284990976', 'full_text': 'what was the queerest moment of 2020?', 'truncated': False, 'display_text_range': [0, 37], 'entities': {'hashtags': [], 'symbols': [], 'user_mentions': [], 'urls': []}, 'metadata': {'iso_language_code': 'en', 'result_type': 'recent'}, 'source': '<a href=\"https://mobile.twitter.com\" rel=\"nofollow\">Twitter Web App</a>', 'in_reply_to_status_id': None, 'in_reply_to_status_id_str': None, 'in_reply_to_user_id': None, 'in_reply_to_user_id_str': None, 'in_reply_to_screen_name': None, 'user': {'id': 28549816, 'id_str': '28549816', 'name': 'Grindr', 'screen_name': 'Grindr', 'location': 'Los Angeles, CA', 'description': 'the largest mobile social networking app for gay, bi, trans, and queer people 🌈🌎💛', 'url': 'https://t.co/KJLAan1E6y', 'entities': {'url': {'urls': [{'url': 'https://t.co/KJLAan1E6y', 'expanded_url': 'http://grindrbloop.com', 'display_url': 'grindrbloop.com', 'indices': [0, 23]}]}, 'description': {'urls': []}}, 'protected': False, 'followers_count': 192467, 'friends_count': 331, 'listed_count': 538, 'created_at': 'Fri Apr 03 12:16:22 +0000 2009', 'favourites_count': 6474, 'utc_offset': None, 'time_zone': None, 'geo_enabled': True, 'verified': True, 'statuses_count': 10935, 'lang': None, 'contributors_enabled': False, 'is_translator': False, 'is_translation_enabled': False, 'profile_background_color': 'ABB8C2', 'profile_background_image_url': 'http://abs.twimg.com/images/themes/theme1/bg.png', 'profile_background_image_url_https': 'https://abs.twimg.com/images/themes/theme1/bg.png', 'profile_background_tile': False, 'profile_image_url': 'http://pbs.twimg.com/profile_images/1267534518996463618/kj_xpqch_normal.jpg', 'profile_image_url_https': 'https://pbs.twimg.com/profile_images/1267534518996463618/kj_xpqch_normal.jpg', 'profile_banner_url': 'https://pbs.twimg.com/profile_banners/28549816/1591044083', 'profile_link_color': 'FFAE00', 'profile_sidebar_border_color': '000000', 'profile_sidebar_fill_color': 'FFCC00', 'profile_text_color': '000000', 'profile_use_background_image': False, 'has_extended_profile': False, 'default_profile': False, 'default_profile_image': False, 'following': False, 'follow_request_sent': False, 'notifications': False, 'translator_type': 'none'}, 'geo': None, 'coordinates': None, 'place': None, 'contributors': None, 'is_quote_status': False, 'retweet_count': 4, 'favorite_count': 33, 'favorited': False, 'retweeted': False, 'lang': 'en'}, 'retweet_count': 0, 'favorite_count': 0, 'favorited': False, 'retweeted': False, 'possibly_sensitive': False, 'lang': 'en'}, created_at=datetime.datetime(2020, 11, 17, 18, 37, 23), id=1328769216594522112, id_str='1328769216594522112', full_text='Jaida winning, then Shea and then Rump throwing a tantrum after his election covid party and Biden laughing at him on a press conference https://t.co/plQ97D59qa', truncated=False, display_text_range=[0, 136], entities={'hashtags': [], 'symbols': [], 'user_mentions': [], 'urls': [{'url': 'https://t.co/plQ97D59qa', 'expanded_url': 'https://twitter.com/Grindr/status/1328768181284990976', 'display_url': 'twitter.com/Grindr/status/…', 'indices': [137, 160]}]}, metadata={'iso_language_code': 'en', 'result_type': 'recent'}, source='Twitter for Android', source_url='http://twitter.com/download/android', in_reply_to_status_id=None, in_reply_to_status_id_str=None, in_reply_to_user_id=None, in_reply_to_user_id_str=None, in_reply_to_screen_name=None, author=User(_api=<tweepy.api.API object at 0x000001DDA90203A0>, _json={'id': 1709624192, 'id_str': '1709624192', 'name': 'David Strnad', 'screen_name': 'queerlyvolatile', 'location': '', 'description': 'Citizen of the Known universe. Techie, geek (nerd), millenial. / Located in the Middle of Europe. Planet Earth, Sol, the Milky Way. Estimated 10%.\\n/ Jinak česky', 'url': 'https://t.co/pZQVjRgW9U', 'entities': {'url': {'urls': [{'url': 'https://t.co/pZQVjRgW9U', 'expanded_url': 'https://geekcentrala.wordpress.com', 'display_url': 'geekcentrala.wordpress.com', 'indices': [0, 23]}]}, 'description': {'urls': []}}, 'protected': False, 'followers_count': 83, 'friends_count': 1055, 'listed_count': 0, 'created_at': 'Thu Aug 29 10:04:20 +0000 2013', 'favourites_count': 17235, 'utc_offset': None, 'time_zone': None, 'geo_enabled': False, 'verified': False, 'statuses_count': 2871, 'lang': None, 'contributors_enabled': False, 'is_translator': False, 'is_translation_enabled': False, 'profile_background_color': '000000', 'profile_background_image_url': 'http://abs.twimg.com/images/themes/theme1/bg.png', 'profile_background_image_url_https': 'https://abs.twimg.com/images/themes/theme1/bg.png', 'profile_background_tile': False, 'profile_image_url': 'http://pbs.twimg.com/profile_images/1327959440545484800/zqTz7JJl_normal.jpg', 'profile_image_url_https': 'https://pbs.twimg.com/profile_images/1327959440545484800/zqTz7JJl_normal.jpg', 'profile_banner_url': 'https://pbs.twimg.com/profile_banners/1709624192/1605445351', 'profile_link_color': 'FAB81E', 'profile_sidebar_border_color': '000000', 'profile_sidebar_fill_color': '000000', 'profile_text_color': '000000', 'profile_use_background_image': False, 'has_extended_profile': False, 'default_profile': False, 'default_profile_image': False, 'following': False, 'follow_request_sent': False, 'notifications': False, 'translator_type': 'none'}, id=1709624192, id_str='1709624192', name='David Strnad', screen_name='queerlyvolatile', location='', description='Citizen of the Known universe. Techie, geek (nerd), millenial. / Located in the Middle of Europe. Planet Earth, Sol, the Milky Way. Estimated 10%.\\n/ Jinak česky', url='https://t.co/pZQVjRgW9U', entities={'url': {'urls': [{'url': 'https://t.co/pZQVjRgW9U', 'expanded_url': 'https://geekcentrala.wordpress.com', 'display_url': 'geekcentrala.wordpress.com', 'indices': [0, 23]}]}, 'description': {'urls': []}}, protected=False, followers_count=83, friends_count=1055, listed_count=0, created_at=datetime.datetime(2013, 8, 29, 10, 4, 20), favourites_count=17235, utc_offset=None, time_zone=None, geo_enabled=False, verified=False, statuses_count=2871, lang=None, contributors_enabled=False, is_translator=False, is_translation_enabled=False, profile_background_color='000000', profile_background_image_url='http://abs.twimg.com/images/themes/theme1/bg.png', profile_background_image_url_https='https://abs.twimg.com/images/themes/theme1/bg.png', profile_background_tile=False, profile_image_url='http://pbs.twimg.com/profile_images/1327959440545484800/zqTz7JJl_normal.jpg', profile_image_url_https='https://pbs.twimg.com/profile_images/1327959440545484800/zqTz7JJl_normal.jpg', profile_banner_url='https://pbs.twimg.com/profile_banners/1709624192/1605445351', profile_link_color='FAB81E', profile_sidebar_border_color='000000', profile_sidebar_fill_color='000000', profile_text_color='000000', profile_use_background_image=False, has_extended_profile=False, default_profile=False, default_profile_image=False, following=False, follow_request_sent=False, notifications=False, translator_type='none'), user=User(_api=<tweepy.api.API object at 0x000001DDA90203A0>, _json={'id': 1709624192, 'id_str': '1709624192', 'name': 'David Strnad', 'screen_name': 'queerlyvolatile', 'location': '', 'description': 'Citizen of the Known universe. Techie, geek (nerd), millenial. / Located in the Middle of Europe. Planet Earth, Sol, the Milky Way. Estimated 10%.\\n/ Jinak česky', 'url': 'https://t.co/pZQVjRgW9U', 'entities': {'url': {'urls': [{'url': 'https://t.co/pZQVjRgW9U', 'expanded_url': 'https://geekcentrala.wordpress.com', 'display_url': 'geekcentrala.wordpress.com', 'indices': [0, 23]}]}, 'description': {'urls': []}}, 'protected': False, 'followers_count': 83, 'friends_count': 1055, 'listed_count': 0, 'created_at': 'Thu Aug 29 10:04:20 +0000 2013', 'favourites_count': 17235, 'utc_offset': None, 'time_zone': None, 'geo_enabled': False, 'verified': False, 'statuses_count': 2871, 'lang': None, 'contributors_enabled': False, 'is_translator': False, 'is_translation_enabled': False, 'profile_background_color': '000000', 'profile_background_image_url': 'http://abs.twimg.com/images/themes/theme1/bg.png', 'profile_background_image_url_https': 'https://abs.twimg.com/images/themes/theme1/bg.png', 'profile_background_tile': False, 'profile_image_url': 'http://pbs.twimg.com/profile_images/1327959440545484800/zqTz7JJl_normal.jpg', 'profile_image_url_https': 'https://pbs.twimg.com/profile_images/1327959440545484800/zqTz7JJl_normal.jpg', 'profile_banner_url': 'https://pbs.twimg.com/profile_banners/1709624192/1605445351', 'profile_link_color': 'FAB81E', 'profile_sidebar_border_color': '000000', 'profile_sidebar_fill_color': '000000', 'profile_text_color': '000000', 'profile_use_background_image': False, 'has_extended_profile': False, 'default_profile': False, 'default_profile_image': False, 'following': False, 'follow_request_sent': False, 'notifications': False, 'translator_type': 'none'}, id=1709624192, id_str='1709624192', name='David Strnad', screen_name='queerlyvolatile', location='', description='Citizen of the Known universe. Techie, geek (nerd), millenial. / Located in the Middle of Europe. Planet Earth, Sol, the Milky Way. Estimated 10%.\\n/ Jinak česky', url='https://t.co/pZQVjRgW9U', entities={'url': {'urls': [{'url': 'https://t.co/pZQVjRgW9U', 'expanded_url': 'https://geekcentrala.wordpress.com', 'display_url': 'geekcentrala.wordpress.com', 'indices': [0, 23]}]}, 'description': {'urls': []}}, protected=False, followers_count=83, friends_count=1055, listed_count=0, created_at=datetime.datetime(2013, 8, 29, 10, 4, 20), favourites_count=17235, utc_offset=None, time_zone=None, geo_enabled=False, verified=False, statuses_count=2871, lang=None, contributors_enabled=False, is_translator=False, is_translation_enabled=False, profile_background_color='000000', profile_background_image_url='http://abs.twimg.com/images/themes/theme1/bg.png', profile_background_image_url_https='https://abs.twimg.com/images/themes/theme1/bg.png', profile_background_tile=False, profile_image_url='http://pbs.twimg.com/profile_images/1327959440545484800/zqTz7JJl_normal.jpg', profile_image_url_https='https://pbs.twimg.com/profile_images/1327959440545484800/zqTz7JJl_normal.jpg', profile_banner_url='https://pbs.twimg.com/profile_banners/1709624192/1605445351', profile_link_color='FAB81E', profile_sidebar_border_color='000000', profile_sidebar_fill_color='000000', profile_text_color='000000', profile_use_background_image=False, has_extended_profile=False, default_profile=False, default_profile_image=False, following=False, follow_request_sent=False, notifications=False, translator_type='none'), geo=None, coordinates=None, place=None, contributors=None, is_quote_status=True, quoted_status_id=1328768181284990976, quoted_status_id_str='1328768181284990976', quoted_status=Status(_api=<tweepy.api.API object at 0x000001DDA90203A0>, _json={'created_at': 'Tue Nov 17 18:33:16 +0000 2020', 'id': 1328768181284990976, 'id_str': '1328768181284990976', 'full_text': 'what was the queerest moment of 2020?', 'truncated': False, 'display_text_range': [0, 37], 'entities': {'hashtags': [], 'symbols': [], 'user_mentions': [], 'urls': []}, 'metadata': {'iso_language_code': 'en', 'result_type': 'recent'}, 'source': '<a href=\"https://mobile.twitter.com\" rel=\"nofollow\">Twitter Web App</a>', 'in_reply_to_status_id': None, 'in_reply_to_status_id_str': None, 'in_reply_to_user_id': None, 'in_reply_to_user_id_str': None, 'in_reply_to_screen_name': None, 'user': {'id': 28549816, 'id_str': '28549816', 'name': 'Grindr', 'screen_name': 'Grindr', 'location': 'Los Angeles, CA', 'description': 'the largest mobile social networking app for gay, bi, trans, and queer people 🌈🌎💛', 'url': 'https://t.co/KJLAan1E6y', 'entities': {'url': {'urls': [{'url': 'https://t.co/KJLAan1E6y', 'expanded_url': 'http://grindrbloop.com', 'display_url': 'grindrbloop.com', 'indices': [0, 23]}]}, 'description': {'urls': []}}, 'protected': False, 'followers_count': 192467, 'friends_count': 331, 'listed_count': 538, 'created_at': 'Fri Apr 03 12:16:22 +0000 2009', 'favourites_count': 6474, 'utc_offset': None, 'time_zone': None, 'geo_enabled': True, 'verified': True, 'statuses_count': 10935, 'lang': None, 'contributors_enabled': False, 'is_translator': False, 'is_translation_enabled': False, 'profile_background_color': 'ABB8C2', 'profile_background_image_url': 'http://abs.twimg.com/images/themes/theme1/bg.png', 'profile_background_image_url_https': 'https://abs.twimg.com/images/themes/theme1/bg.png', 'profile_background_tile': False, 'profile_image_url': 'http://pbs.twimg.com/profile_images/1267534518996463618/kj_xpqch_normal.jpg', 'profile_image_url_https': 'https://pbs.twimg.com/profile_images/1267534518996463618/kj_xpqch_normal.jpg', 'profile_banner_url': 'https://pbs.twimg.com/profile_banners/28549816/1591044083', 'profile_link_color': 'FFAE00', 'profile_sidebar_border_color': '000000', 'profile_sidebar_fill_color': 'FFCC00', 'profile_text_color': '000000', 'profile_use_background_image': False, 'has_extended_profile': False, 'default_profile': False, 'default_profile_image': False, 'following': False, 'follow_request_sent': False, 'notifications': False, 'translator_type': 'none'}, 'geo': None, 'coordinates': None, 'place': None, 'contributors': None, 'is_quote_status': False, 'retweet_count': 4, 'favorite_count': 33, 'favorited': False, 'retweeted': False, 'lang': 'en'}, created_at=datetime.datetime(2020, 11, 17, 18, 33, 16), id=1328768181284990976, id_str='1328768181284990976', full_text='what was the queerest moment of 2020?', truncated=False, display_text_range=[0, 37], entities={'hashtags': [], 'symbols': [], 'user_mentions': [], 'urls': []}, metadata={'iso_language_code': 'en', 'result_type': 'recent'}, source='Twitter Web App', source_url='https://mobile.twitter.com', in_reply_to_status_id=None, in_reply_to_status_id_str=None, in_reply_to_user_id=None, in_reply_to_user_id_str=None, in_reply_to_screen_name=None, author=User(_api=<tweepy.api.API object at 0x000001DDA90203A0>, _json={'id': 28549816, 'id_str': '28549816', 'name': 'Grindr', 'screen_name': 'Grindr', 'location': 'Los Angeles, CA', 'description': 'the largest mobile social networking app for gay, bi, trans, and queer people 🌈🌎💛', 'url': 'https://t.co/KJLAan1E6y', 'entities': {'url': {'urls': [{'url': 'https://t.co/KJLAan1E6y', 'expanded_url': 'http://grindrbloop.com', 'display_url': 'grindrbloop.com', 'indices': [0, 23]}]}, 'description': {'urls': []}}, 'protected': False, 'followers_count': 192467, 'friends_count': 331, 'listed_count': 538, 'created_at': 'Fri Apr 03 12:16:22 +0000 2009', 'favourites_count': 6474, 'utc_offset': None, 'time_zone': None, 'geo_enabled': True, 'verified': True, 'statuses_count': 10935, 'lang': None, 'contributors_enabled': False, 'is_translator': False, 'is_translation_enabled': False, 'profile_background_color': 'ABB8C2', 'profile_background_image_url': 'http://abs.twimg.com/images/themes/theme1/bg.png', 'profile_background_image_url_https': 'https://abs.twimg.com/images/themes/theme1/bg.png', 'profile_background_tile': False, 'profile_image_url': 'http://pbs.twimg.com/profile_images/1267534518996463618/kj_xpqch_normal.jpg', 'profile_image_url_https': 'https://pbs.twimg.com/profile_images/1267534518996463618/kj_xpqch_normal.jpg', 'profile_banner_url': 'https://pbs.twimg.com/profile_banners/28549816/1591044083', 'profile_link_color': 'FFAE00', 'profile_sidebar_border_color': '000000', 'profile_sidebar_fill_color': 'FFCC00', 'profile_text_color': '000000', 'profile_use_background_image': False, 'has_extended_profile': False, 'default_profile': False, 'default_profile_image': False, 'following': False, 'follow_request_sent': False, 'notifications': False, 'translator_type': 'none'}, id=28549816, id_str='28549816', name='Grindr', screen_name='Grindr', location='Los Angeles, CA', description='the largest mobile social networking app for gay, bi, trans, and queer people 🌈🌎💛', url='https://t.co/KJLAan1E6y', entities={'url': {'urls': [{'url': 'https://t.co/KJLAan1E6y', 'expanded_url': 'http://grindrbloop.com', 'display_url': 'grindrbloop.com', 'indices': [0, 23]}]}, 'description': {'urls': []}}, protected=False, followers_count=192467, friends_count=331, listed_count=538, created_at=datetime.datetime(2009, 4, 3, 12, 16, 22), favourites_count=6474, utc_offset=None, time_zone=None, geo_enabled=True, verified=True, statuses_count=10935, lang=None, contributors_enabled=False, is_translator=False, is_translation_enabled=False, profile_background_color='ABB8C2', profile_background_image_url='http://abs.twimg.com/images/themes/theme1/bg.png', profile_background_image_url_https='https://abs.twimg.com/images/themes/theme1/bg.png', profile_background_tile=False, profile_image_url='http://pbs.twimg.com/profile_images/1267534518996463618/kj_xpqch_normal.jpg', profile_image_url_https='https://pbs.twimg.com/profile_images/1267534518996463618/kj_xpqch_normal.jpg', profile_banner_url='https://pbs.twimg.com/profile_banners/28549816/1591044083', profile_link_color='FFAE00', profile_sidebar_border_color='000000', profile_sidebar_fill_color='FFCC00', profile_text_color='000000', profile_use_background_image=False, has_extended_profile=False, default_profile=False, default_profile_image=False, following=False, follow_request_sent=False, notifications=False, translator_type='none'), user=User(_api=<tweepy.api.API object at 0x000001DDA90203A0>, _json={'id': 28549816, 'id_str': '28549816', 'name': 'Grindr', 'screen_name': 'Grindr', 'location': 'Los Angeles, CA', 'description': 'the largest mobile social networking app for gay, bi, trans, and queer people 🌈🌎💛', 'url': 'https://t.co/KJLAan1E6y', 'entities': {'url': {'urls': [{'url': 'https://t.co/KJLAan1E6y', 'expanded_url': 'http://grindrbloop.com', 'display_url': 'grindrbloop.com', 'indices': [0, 23]}]}, 'description': {'urls': []}}, 'protected': False, 'followers_count': 192467, 'friends_count': 331, 'listed_count': 538, 'created_at': 'Fri Apr 03 12:16:22 +0000 2009', 'favourites_count': 6474, 'utc_offset': None, 'time_zone': None, 'geo_enabled': True, 'verified': True, 'statuses_count': 10935, 'lang': None, 'contributors_enabled': False, 'is_translator': False, 'is_translation_enabled': False, 'profile_background_color': 'ABB8C2', 'profile_background_image_url': 'http://abs.twimg.com/images/themes/theme1/bg.png', 'profile_background_image_url_https': 'https://abs.twimg.com/images/themes/theme1/bg.png', 'profile_background_tile': False, 'profile_image_url': 'http://pbs.twimg.com/profile_images/1267534518996463618/kj_xpqch_normal.jpg', 'profile_image_url_https': 'https://pbs.twimg.com/profile_images/1267534518996463618/kj_xpqch_normal.jpg', 'profile_banner_url': 'https://pbs.twimg.com/profile_banners/28549816/1591044083', 'profile_link_color': 'FFAE00', 'profile_sidebar_border_color': '000000', 'profile_sidebar_fill_color': 'FFCC00', 'profile_text_color': '000000', 'profile_use_background_image': False, 'has_extended_profile': False, 'default_profile': False, 'default_profile_image': False, 'following': False, 'follow_request_sent': False, 'notifications': False, 'translator_type': 'none'}, id=28549816, id_str='28549816', name='Grindr', screen_name='Grindr', location='Los Angeles, CA', description='the largest mobile social networking app for gay, bi, trans, and queer people 🌈🌎💛', url='https://t.co/KJLAan1E6y', entities={'url': {'urls': [{'url': 'https://t.co/KJLAan1E6y', 'expanded_url': 'http://grindrbloop.com', 'display_url': 'grindrbloop.com', 'indices': [0, 23]}]}, 'description': {'urls': []}}, protected=False, followers_count=192467, friends_count=331, listed_count=538, created_at=datetime.datetime(2009, 4, 3, 12, 16, 22), favourites_count=6474, utc_offset=None, time_zone=None, geo_enabled=True, verified=True, statuses_count=10935, lang=None, contributors_enabled=False, is_translator=False, is_translation_enabled=False, profile_background_color='ABB8C2', profile_background_image_url='http://abs.twimg.com/images/themes/theme1/bg.png', profile_background_image_url_https='https://abs.twimg.com/images/themes/theme1/bg.png', profile_background_tile=False, profile_image_url='http://pbs.twimg.com/profile_images/1267534518996463618/kj_xpqch_normal.jpg', profile_image_url_https='https://pbs.twimg.com/profile_images/1267534518996463618/kj_xpqch_normal.jpg', profile_banner_url='https://pbs.twimg.com/profile_banners/28549816/1591044083', profile_link_color='FFAE00', profile_sidebar_border_color='000000', profile_sidebar_fill_color='FFCC00', profile_text_color='000000', profile_use_background_image=False, has_extended_profile=False, default_profile=False, default_profile_image=False, following=False, follow_request_sent=False, notifications=False, translator_type='none'), geo=None, coordinates=None, place=None, contributors=None, is_quote_status=False, retweet_count=4, favorite_count=33, favorited=False, retweeted=False, lang='en'), retweet_count=0, favorite_count=0, favorited=False, retweeted=False, possibly_sensitive=False, lang='en') \n",
      "\n",
      ".....................................\n",
      "\n",
      "Status(_api=<tweepy.api.API object at 0x000001DDA90203A0>, _json={'created_at': 'Tue Nov 17 18:34:44 +0000 2020', 'id': 1328768550010490881, 'id_str': '1328768550010490881', 'full_text': 'I believe progressives have played a vital role in winning this election And will need to play a vital role for Joe Biden’s presidency to be successful for this country.', 'truncated': False, 'display_text_range': [0, 169], 'entities': {'hashtags': [], 'symbols': [], 'user_mentions': [], 'urls': []}, 'metadata': {'iso_language_code': 'en', 'result_type': 'recent'}, 'source': '<a href=\"http://twitter.com/download/iphone\" rel=\"nofollow\">Twitter for iPhone</a>', 'in_reply_to_status_id': None, 'in_reply_to_status_id_str': None, 'in_reply_to_user_id': None, 'in_reply_to_user_id_str': None, 'in_reply_to_screen_name': None, 'user': {'id': 1258967898271485957, 'id_str': '1258967898271485957', 'name': 'Hope Lewis', 'screen_name': 'HopeLew21918555', 'location': '', 'description': '', 'url': None, 'entities': {'description': {'urls': []}}, 'protected': False, 'followers_count': 24, 'friends_count': 208, 'listed_count': 0, 'created_at': 'Sat May 09 03:52:16 +0000 2020', 'favourites_count': 8279, 'utc_offset': None, 'time_zone': None, 'geo_enabled': False, 'verified': False, 'statuses_count': 1625, 'lang': None, 'contributors_enabled': False, 'is_translator': False, 'is_translation_enabled': False, 'profile_background_color': 'F5F8FA', 'profile_background_image_url': None, 'profile_background_image_url_https': None, 'profile_background_tile': False, 'profile_image_url': 'http://pbs.twimg.com/profile_images/1312486040150642688/DhOCKWX-_normal.jpg', 'profile_image_url_https': 'https://pbs.twimg.com/profile_images/1312486040150642688/DhOCKWX-_normal.jpg', 'profile_link_color': '1DA1F2', 'profile_sidebar_border_color': 'C0DEED', 'profile_sidebar_fill_color': 'DDEEF6', 'profile_text_color': '333333', 'profile_use_background_image': True, 'has_extended_profile': True, 'default_profile': True, 'default_profile_image': False, 'following': False, 'follow_request_sent': False, 'notifications': False, 'translator_type': 'none'}, 'geo': None, 'coordinates': None, 'place': None, 'contributors': None, 'is_quote_status': False, 'retweet_count': 0, 'favorite_count': 0, 'favorited': False, 'retweeted': False, 'lang': 'en'}, created_at=datetime.datetime(2020, 11, 17, 18, 34, 44), id=1328768550010490881, id_str='1328768550010490881', full_text='I believe progressives have played a vital role in winning this election And will need to play a vital role for Joe Biden’s presidency to be successful for this country.', truncated=False, display_text_range=[0, 169], entities={'hashtags': [], 'symbols': [], 'user_mentions': [], 'urls': []}, metadata={'iso_language_code': 'en', 'result_type': 'recent'}, source='Twitter for iPhone', source_url='http://twitter.com/download/iphone', in_reply_to_status_id=None, in_reply_to_status_id_str=None, in_reply_to_user_id=None, in_reply_to_user_id_str=None, in_reply_to_screen_name=None, author=User(_api=<tweepy.api.API object at 0x000001DDA90203A0>, _json={'id': 1258967898271485957, 'id_str': '1258967898271485957', 'name': 'Hope Lewis', 'screen_name': 'HopeLew21918555', 'location': '', 'description': '', 'url': None, 'entities': {'description': {'urls': []}}, 'protected': False, 'followers_count': 24, 'friends_count': 208, 'listed_count': 0, 'created_at': 'Sat May 09 03:52:16 +0000 2020', 'favourites_count': 8279, 'utc_offset': None, 'time_zone': None, 'geo_enabled': False, 'verified': False, 'statuses_count': 1625, 'lang': None, 'contributors_enabled': False, 'is_translator': False, 'is_translation_enabled': False, 'profile_background_color': 'F5F8FA', 'profile_background_image_url': None, 'profile_background_image_url_https': None, 'profile_background_tile': False, 'profile_image_url': 'http://pbs.twimg.com/profile_images/1312486040150642688/DhOCKWX-_normal.jpg', 'profile_image_url_https': 'https://pbs.twimg.com/profile_images/1312486040150642688/DhOCKWX-_normal.jpg', 'profile_link_color': '1DA1F2', 'profile_sidebar_border_color': 'C0DEED', 'profile_sidebar_fill_color': 'DDEEF6', 'profile_text_color': '333333', 'profile_use_background_image': True, 'has_extended_profile': True, 'default_profile': True, 'default_profile_image': False, 'following': False, 'follow_request_sent': False, 'notifications': False, 'translator_type': 'none'}, id=1258967898271485957, id_str='1258967898271485957', name='Hope Lewis', screen_name='HopeLew21918555', location='', description='', url=None, entities={'description': {'urls': []}}, protected=False, followers_count=24, friends_count=208, listed_count=0, created_at=datetime.datetime(2020, 5, 9, 3, 52, 16), favourites_count=8279, utc_offset=None, time_zone=None, geo_enabled=False, verified=False, statuses_count=1625, lang=None, contributors_enabled=False, is_translator=False, is_translation_enabled=False, profile_background_color='F5F8FA', profile_background_image_url=None, profile_background_image_url_https=None, profile_background_tile=False, profile_image_url='http://pbs.twimg.com/profile_images/1312486040150642688/DhOCKWX-_normal.jpg', profile_image_url_https='https://pbs.twimg.com/profile_images/1312486040150642688/DhOCKWX-_normal.jpg', profile_link_color='1DA1F2', profile_sidebar_border_color='C0DEED', profile_sidebar_fill_color='DDEEF6', profile_text_color='333333', profile_use_background_image=True, has_extended_profile=True, default_profile=True, default_profile_image=False, following=False, follow_request_sent=False, notifications=False, translator_type='none'), user=User(_api=<tweepy.api.API object at 0x000001DDA90203A0>, _json={'id': 1258967898271485957, 'id_str': '1258967898271485957', 'name': 'Hope Lewis', 'screen_name': 'HopeLew21918555', 'location': '', 'description': '', 'url': None, 'entities': {'description': {'urls': []}}, 'protected': False, 'followers_count': 24, 'friends_count': 208, 'listed_count': 0, 'created_at': 'Sat May 09 03:52:16 +0000 2020', 'favourites_count': 8279, 'utc_offset': None, 'time_zone': None, 'geo_enabled': False, 'verified': False, 'statuses_count': 1625, 'lang': None, 'contributors_enabled': False, 'is_translator': False, 'is_translation_enabled': False, 'profile_background_color': 'F5F8FA', 'profile_background_image_url': None, 'profile_background_image_url_https': None, 'profile_background_tile': False, 'profile_image_url': 'http://pbs.twimg.com/profile_images/1312486040150642688/DhOCKWX-_normal.jpg', 'profile_image_url_https': 'https://pbs.twimg.com/profile_images/1312486040150642688/DhOCKWX-_normal.jpg', 'profile_link_color': '1DA1F2', 'profile_sidebar_border_color': 'C0DEED', 'profile_sidebar_fill_color': 'DDEEF6', 'profile_text_color': '333333', 'profile_use_background_image': True, 'has_extended_profile': True, 'default_profile': True, 'default_profile_image': False, 'following': False, 'follow_request_sent': False, 'notifications': False, 'translator_type': 'none'}, id=1258967898271485957, id_str='1258967898271485957', name='Hope Lewis', screen_name='HopeLew21918555', location='', description='', url=None, entities={'description': {'urls': []}}, protected=False, followers_count=24, friends_count=208, listed_count=0, created_at=datetime.datetime(2020, 5, 9, 3, 52, 16), favourites_count=8279, utc_offset=None, time_zone=None, geo_enabled=False, verified=False, statuses_count=1625, lang=None, contributors_enabled=False, is_translator=False, is_translation_enabled=False, profile_background_color='F5F8FA', profile_background_image_url=None, profile_background_image_url_https=None, profile_background_tile=False, profile_image_url='http://pbs.twimg.com/profile_images/1312486040150642688/DhOCKWX-_normal.jpg', profile_image_url_https='https://pbs.twimg.com/profile_images/1312486040150642688/DhOCKWX-_normal.jpg', profile_link_color='1DA1F2', profile_sidebar_border_color='C0DEED', profile_sidebar_fill_color='DDEEF6', profile_text_color='333333', profile_use_background_image=True, has_extended_profile=True, default_profile=True, default_profile_image=False, following=False, follow_request_sent=False, notifications=False, translator_type='none'), geo=None, coordinates=None, place=None, contributors=None, is_quote_status=False, retweet_count=0, favorite_count=0, favorited=False, retweeted=False, lang='en') \n",
      "\n",
      ".....................................\n",
      "\n"
     ]
    }
   ],
   "source": [
    "Tweets = api.search( query , count=10 , lang='en' , exclude='retweets' , tweet_mode='extended' )\n",
    "# tweet_mode='extended'\n",
    "# tweet_mode='compat'\n",
    "\n",
    "for tweet in Tweets:\n",
    "    print(tweet,\"\\n\")\n",
    "    print(\".....................................\\n\")"
   ]
  },
  {
   "cell_type": "code",
   "execution_count": 8,
   "metadata": {},
   "outputs": [
    {
     "name": "stdout",
     "output_type": "stream",
     "text": [
      "Empty DataFrame\n",
      "Columns: [Tweets, User, User_statuses_count, user_followers, User_location, User_verified, fav_count, rt_count, tweet_date]\n",
      "Index: []\n"
     ]
    }
   ],
   "source": [
    "df = pd.DataFrame(columns = ['Tweets' , 'User' , 'User_statuses_count' , \n",
    "                            'user_followers' , 'User_location' , 'User_verified' ,\n",
    "                            'fav_count' , 'rt_count' , 'tweet_date'] )\n",
    "print(df)"
   ]
  },
  {
   "cell_type": "code",
   "execution_count": 9,
   "metadata": {},
   "outputs": [],
   "source": [
    "def stream(data, file_name):\n",
    "    i = 0\n",
    "    for tweet in tweepy.Cursor(api.search, q=data, count=100, lang='en').items():\n",
    "        print(i, end='\\r')\n",
    "        df.loc[i, 'Tweets'] = tweet.text\n",
    "        df.loc[i, 'User'] = tweet.user.name\n",
    "        df.loc[i, 'User_statuses_count'] = tweet.user.statuses_count\n",
    "        df.loc[i, 'user_followers'] = tweet.user.followers_count\n",
    "        df.loc[i, 'User_location'] = tweet.user.location\n",
    "        df.loc[i, 'User_verified'] = tweet.user.verified\n",
    "        df.loc[i, 'fav_count'] = tweet.favorite_count\n",
    "        df.loc[i, 'rt_count'] = tweet.retweet_count\n",
    "        df.loc[i, 'tweet_date'] = tweet.created_at\n",
    "        df.to_excel('{}.xlsx'.format(file_name))\n",
    "        i = i+1\n",
    "        if i == 1000:\n",
    "            break\n",
    "        else:\n",
    "            pass"
   ]
  },
  {
   "cell_type": "code",
   "execution_count": 10,
   "metadata": {},
   "outputs": [
    {
     "name": "stdout",
     "output_type": "stream",
     "text": [
      "999\r"
     ]
    }
   ],
   "source": [
    "stream(data=[\"Biden winning election\"] , file_name='my_tweets')"
   ]
  },
  {
   "cell_type": "code",
   "execution_count": 11,
   "metadata": {},
   "outputs": [
    {
     "data": {
      "text/html": [
       "<div>\n",
       "<style scoped>\n",
       "    .dataframe tbody tr th:only-of-type {\n",
       "        vertical-align: middle;\n",
       "    }\n",
       "\n",
       "    .dataframe tbody tr th {\n",
       "        vertical-align: top;\n",
       "    }\n",
       "\n",
       "    .dataframe thead th {\n",
       "        text-align: right;\n",
       "    }\n",
       "</style>\n",
       "<table border=\"1\" class=\"dataframe\">\n",
       "  <thead>\n",
       "    <tr style=\"text-align: right;\">\n",
       "      <th></th>\n",
       "      <th>Tweets</th>\n",
       "      <th>User</th>\n",
       "      <th>User_statuses_count</th>\n",
       "      <th>user_followers</th>\n",
       "      <th>User_location</th>\n",
       "      <th>User_verified</th>\n",
       "      <th>fav_count</th>\n",
       "      <th>rt_count</th>\n",
       "      <th>tweet_date</th>\n",
       "    </tr>\n",
       "  </thead>\n",
       "  <tbody>\n",
       "    <tr>\n",
       "      <th>0</th>\n",
       "      <td>Radical left group mad at Joe Biden for winnin...</td>\n",
       "      <td>🇵🇷 Angel text 3 0 3 3 0 in TX 🥁🇵🇷</td>\n",
       "      <td>50613</td>\n",
       "      <td>1494</td>\n",
       "      <td>Texas, USA</td>\n",
       "      <td>False</td>\n",
       "      <td>0</td>\n",
       "      <td>0</td>\n",
       "      <td>2020-11-17 18:55:50</td>\n",
       "    </tr>\n",
       "    <tr>\n",
       "      <th>1</th>\n",
       "      <td>@afneil Andrew you are a great journalist, but...</td>\n",
       "      <td>Alan Armstrong</td>\n",
       "      <td>449</td>\n",
       "      <td>3</td>\n",
       "      <td></td>\n",
       "      <td>False</td>\n",
       "      <td>0</td>\n",
       "      <td>0</td>\n",
       "      <td>2020-11-17 18:55:39</td>\n",
       "    </tr>\n",
       "    <tr>\n",
       "      <th>2</th>\n",
       "      <td>@AdamGordon1977 @tedcruz Congrats for what??? ...</td>\n",
       "      <td>☆♥︎Suck It Up Democrats_Trump Won 2020♥︎☆</td>\n",
       "      <td>308</td>\n",
       "      <td>35</td>\n",
       "      <td>Rock Hill, SC</td>\n",
       "      <td>False</td>\n",
       "      <td>0</td>\n",
       "      <td>0</td>\n",
       "      <td>2020-11-17 18:55:12</td>\n",
       "    </tr>\n",
       "    <tr>\n",
       "      <th>3</th>\n",
       "      <td>RT @OryxMaps: Bexar County is home to both San...</td>\n",
       "      <td>Andrew Bellah</td>\n",
       "      <td>4320</td>\n",
       "      <td>962</td>\n",
       "      <td>McKinney, TX</td>\n",
       "      <td>False</td>\n",
       "      <td>0</td>\n",
       "      <td>2</td>\n",
       "      <td>2020-11-17 18:54:59</td>\n",
       "    </tr>\n",
       "    <tr>\n",
       "      <th>4</th>\n",
       "      <td>RT @danieltilles1: Poland's president has only...</td>\n",
       "      <td>Claudio</td>\n",
       "      <td>80775</td>\n",
       "      <td>1834</td>\n",
       "      <td>London, EU</td>\n",
       "      <td>False</td>\n",
       "      <td>0</td>\n",
       "      <td>3</td>\n",
       "      <td>2020-11-17 18:54:40</td>\n",
       "    </tr>\n",
       "  </tbody>\n",
       "</table>\n",
       "</div>"
      ],
      "text/plain": [
       "                                              Tweets  \\\n",
       "0  Radical left group mad at Joe Biden for winnin...   \n",
       "1  @afneil Andrew you are a great journalist, but...   \n",
       "2  @AdamGordon1977 @tedcruz Congrats for what??? ...   \n",
       "3  RT @OryxMaps: Bexar County is home to both San...   \n",
       "4  RT @danieltilles1: Poland's president has only...   \n",
       "\n",
       "                                        User User_statuses_count  \\\n",
       "0          🇵🇷 Angel text 3 0 3 3 0 in TX 🥁🇵🇷               50613   \n",
       "1                             Alan Armstrong                 449   \n",
       "2  ☆♥︎Suck It Up Democrats_Trump Won 2020♥︎☆                 308   \n",
       "3                              Andrew Bellah                4320   \n",
       "4                                    Claudio               80775   \n",
       "\n",
       "  user_followers  User_location User_verified fav_count rt_count  \\\n",
       "0           1494     Texas, USA         False         0        0   \n",
       "1              3                        False         0        0   \n",
       "2             35  Rock Hill, SC         False         0        0   \n",
       "3            962   McKinney, TX         False         0        2   \n",
       "4           1834     London, EU         False         0        3   \n",
       "\n",
       "            tweet_date  \n",
       "0  2020-11-17 18:55:50  \n",
       "1  2020-11-17 18:55:39  \n",
       "2  2020-11-17 18:55:12  \n",
       "3  2020-11-17 18:54:59  \n",
       "4  2020-11-17 18:54:40  "
      ]
     },
     "execution_count": 11,
     "metadata": {},
     "output_type": "execute_result"
    }
   ],
   "source": [
    "df.head()"
   ]
  },
  {
   "cell_type": "code",
   "execution_count": 14,
   "metadata": {},
   "outputs": [
    {
     "name": "stdout",
     "output_type": "stream",
     "text": [
      "Collecting textblob\n",
      "  Downloading textblob-0.15.3-py2.py3-none-any.whl (636 kB)\n",
      "Requirement already satisfied, skipping upgrade: nltk>=3.1 in c:\\users\\satya\\anaconda3\\lib\\site-packages (from textblob) (3.5)\n",
      "Requirement already satisfied, skipping upgrade: tqdm in c:\\users\\satya\\anaconda3\\lib\\site-packages (from nltk>=3.1->textblob) (4.47.0)\n",
      "Requirement already satisfied, skipping upgrade: joblib in c:\\users\\satya\\anaconda3\\lib\\site-packages (from nltk>=3.1->textblob) (0.16.0)\n",
      "Requirement already satisfied, skipping upgrade: regex in c:\\users\\satya\\anaconda3\\lib\\site-packages (from nltk>=3.1->textblob) (2020.6.8)\n",
      "Requirement already satisfied, skipping upgrade: click in c:\\users\\satya\\anaconda3\\lib\\site-packages (from nltk>=3.1->textblob) (7.1.2)\n",
      "Installing collected packages: textblob\n",
      "Successfully installed textblob-0.15.3\n"
     ]
    }
   ],
   "source": [
    "!pip install -U textblob"
   ]
  },
  {
   "cell_type": "code",
   "execution_count": 15,
   "metadata": {},
   "outputs": [],
   "source": [
    "from textblob import TextBlob"
   ]
  },
  {
   "cell_type": "code",
   "execution_count": 16,
   "metadata": {},
   "outputs": [],
   "source": [
    "import re\n",
    "def clean_tweet(tweet):\n",
    "    return ' '.join(re.sub('(@[A-Za-z0-9]+)|([^0-9A-Za-z \\t])|(\\w+:\\/\\/\\S+)', ' ', tweet).split())"
   ]
  },
  {
   "cell_type": "code",
   "execution_count": 17,
   "metadata": {},
   "outputs": [],
   "source": [
    "def analyze_sentiment(tweet):\n",
    "    analysis = TextBlob(tweet)\n",
    "    if analysis.sentiment.polarity > 0:\n",
    "        return 'Positive'\n",
    "    elif analysis.sentiment.polarity == 0:\n",
    "        return 'Neutral'\n",
    "    else:\n",
    "        return 'Negative'"
   ]
  },
  {
   "cell_type": "code",
   "execution_count": 18,
   "metadata": {},
   "outputs": [],
   "source": [
    "df['clean_tweet'] = df['Tweets'].apply(lambda x : clean_tweet(x))"
   ]
  },
  {
   "cell_type": "code",
   "execution_count": 19,
   "metadata": {},
   "outputs": [
    {
     "data": {
      "text/html": [
       "<div>\n",
       "<style scoped>\n",
       "    .dataframe tbody tr th:only-of-type {\n",
       "        vertical-align: middle;\n",
       "    }\n",
       "\n",
       "    .dataframe tbody tr th {\n",
       "        vertical-align: top;\n",
       "    }\n",
       "\n",
       "    .dataframe thead th {\n",
       "        text-align: right;\n",
       "    }\n",
       "</style>\n",
       "<table border=\"1\" class=\"dataframe\">\n",
       "  <thead>\n",
       "    <tr style=\"text-align: right;\">\n",
       "      <th></th>\n",
       "      <th>Tweets</th>\n",
       "      <th>User</th>\n",
       "      <th>User_statuses_count</th>\n",
       "      <th>user_followers</th>\n",
       "      <th>User_location</th>\n",
       "      <th>User_verified</th>\n",
       "      <th>fav_count</th>\n",
       "      <th>rt_count</th>\n",
       "      <th>tweet_date</th>\n",
       "      <th>clean_tweet</th>\n",
       "    </tr>\n",
       "  </thead>\n",
       "  <tbody>\n",
       "    <tr>\n",
       "      <th>0</th>\n",
       "      <td>Radical left group mad at Joe Biden for winnin...</td>\n",
       "      <td>🇵🇷 Angel text 3 0 3 3 0 in TX 🥁🇵🇷</td>\n",
       "      <td>50613</td>\n",
       "      <td>1494</td>\n",
       "      <td>Texas, USA</td>\n",
       "      <td>False</td>\n",
       "      <td>0</td>\n",
       "      <td>0</td>\n",
       "      <td>2020-11-17 18:55:50</td>\n",
       "      <td>Radical left group mad at Joe Biden for winnin...</td>\n",
       "    </tr>\n",
       "    <tr>\n",
       "      <th>1</th>\n",
       "      <td>@afneil Andrew you are a great journalist, but...</td>\n",
       "      <td>Alan Armstrong</td>\n",
       "      <td>449</td>\n",
       "      <td>3</td>\n",
       "      <td></td>\n",
       "      <td>False</td>\n",
       "      <td>0</td>\n",
       "      <td>0</td>\n",
       "      <td>2020-11-17 18:55:39</td>\n",
       "      <td>Andrew you are a great journalist but your com...</td>\n",
       "    </tr>\n",
       "    <tr>\n",
       "      <th>2</th>\n",
       "      <td>@AdamGordon1977 @tedcruz Congrats for what??? ...</td>\n",
       "      <td>☆♥︎Suck It Up Democrats_Trump Won 2020♥︎☆</td>\n",
       "      <td>308</td>\n",
       "      <td>35</td>\n",
       "      <td>Rock Hill, SC</td>\n",
       "      <td>False</td>\n",
       "      <td>0</td>\n",
       "      <td>0</td>\n",
       "      <td>2020-11-17 18:55:12</td>\n",
       "      <td>Congrats for what Becoming the first person el...</td>\n",
       "    </tr>\n",
       "    <tr>\n",
       "      <th>3</th>\n",
       "      <td>RT @OryxMaps: Bexar County is home to both San...</td>\n",
       "      <td>Andrew Bellah</td>\n",
       "      <td>4320</td>\n",
       "      <td>962</td>\n",
       "      <td>McKinney, TX</td>\n",
       "      <td>False</td>\n",
       "      <td>0</td>\n",
       "      <td>2</td>\n",
       "      <td>2020-11-17 18:54:59</td>\n",
       "      <td>RT Bexar County is home to both San Antonio an...</td>\n",
       "    </tr>\n",
       "    <tr>\n",
       "      <th>4</th>\n",
       "      <td>RT @danieltilles1: Poland's president has only...</td>\n",
       "      <td>Claudio</td>\n",
       "      <td>80775</td>\n",
       "      <td>1834</td>\n",
       "      <td>London, EU</td>\n",
       "      <td>False</td>\n",
       "      <td>0</td>\n",
       "      <td>3</td>\n",
       "      <td>2020-11-17 18:54:40</td>\n",
       "      <td>RT Poland s president has only congratulated B...</td>\n",
       "    </tr>\n",
       "  </tbody>\n",
       "</table>\n",
       "</div>"
      ],
      "text/plain": [
       "                                              Tweets  \\\n",
       "0  Radical left group mad at Joe Biden for winnin...   \n",
       "1  @afneil Andrew you are a great journalist, but...   \n",
       "2  @AdamGordon1977 @tedcruz Congrats for what??? ...   \n",
       "3  RT @OryxMaps: Bexar County is home to both San...   \n",
       "4  RT @danieltilles1: Poland's president has only...   \n",
       "\n",
       "                                        User User_statuses_count  \\\n",
       "0          🇵🇷 Angel text 3 0 3 3 0 in TX 🥁🇵🇷               50613   \n",
       "1                             Alan Armstrong                 449   \n",
       "2  ☆♥︎Suck It Up Democrats_Trump Won 2020♥︎☆                 308   \n",
       "3                              Andrew Bellah                4320   \n",
       "4                                    Claudio               80775   \n",
       "\n",
       "  user_followers  User_location User_verified fav_count rt_count  \\\n",
       "0           1494     Texas, USA         False         0        0   \n",
       "1              3                        False         0        0   \n",
       "2             35  Rock Hill, SC         False         0        0   \n",
       "3            962   McKinney, TX         False         0        2   \n",
       "4           1834     London, EU         False         0        3   \n",
       "\n",
       "            tweet_date                                        clean_tweet  \n",
       "0  2020-11-17 18:55:50  Radical left group mad at Joe Biden for winnin...  \n",
       "1  2020-11-17 18:55:39  Andrew you are a great journalist but your com...  \n",
       "2  2020-11-17 18:55:12  Congrats for what Becoming the first person el...  \n",
       "3  2020-11-17 18:54:59  RT Bexar County is home to both San Antonio an...  \n",
       "4  2020-11-17 18:54:40  RT Poland s president has only congratulated B...  "
      ]
     },
     "execution_count": 19,
     "metadata": {},
     "output_type": "execute_result"
    }
   ],
   "source": [
    "df.head()"
   ]
  },
  {
   "cell_type": "code",
   "execution_count": 20,
   "metadata": {},
   "outputs": [
    {
     "data": {
      "text/html": [
       "<div>\n",
       "<style scoped>\n",
       "    .dataframe tbody tr th:only-of-type {\n",
       "        vertical-align: middle;\n",
       "    }\n",
       "\n",
       "    .dataframe tbody tr th {\n",
       "        vertical-align: top;\n",
       "    }\n",
       "\n",
       "    .dataframe thead th {\n",
       "        text-align: right;\n",
       "    }\n",
       "</style>\n",
       "<table border=\"1\" class=\"dataframe\">\n",
       "  <thead>\n",
       "    <tr style=\"text-align: right;\">\n",
       "      <th></th>\n",
       "      <th>Tweets</th>\n",
       "      <th>User</th>\n",
       "      <th>User_statuses_count</th>\n",
       "      <th>user_followers</th>\n",
       "      <th>User_location</th>\n",
       "      <th>User_verified</th>\n",
       "      <th>fav_count</th>\n",
       "      <th>rt_count</th>\n",
       "      <th>tweet_date</th>\n",
       "      <th>clean_tweet</th>\n",
       "      <th>Sentiment</th>\n",
       "    </tr>\n",
       "  </thead>\n",
       "  <tbody>\n",
       "    <tr>\n",
       "      <th>0</th>\n",
       "      <td>Radical left group mad at Joe Biden for winnin...</td>\n",
       "      <td>🇵🇷 Angel text 3 0 3 3 0 in TX 🥁🇵🇷</td>\n",
       "      <td>50613</td>\n",
       "      <td>1494</td>\n",
       "      <td>Texas, USA</td>\n",
       "      <td>False</td>\n",
       "      <td>0</td>\n",
       "      <td>0</td>\n",
       "      <td>2020-11-17 18:55:50</td>\n",
       "      <td>Radical left group mad at Joe Biden for winnin...</td>\n",
       "      <td>Negative</td>\n",
       "    </tr>\n",
       "    <tr>\n",
       "      <th>1</th>\n",
       "      <td>@afneil Andrew you are a great journalist, but...</td>\n",
       "      <td>Alan Armstrong</td>\n",
       "      <td>449</td>\n",
       "      <td>3</td>\n",
       "      <td></td>\n",
       "      <td>False</td>\n",
       "      <td>0</td>\n",
       "      <td>0</td>\n",
       "      <td>2020-11-17 18:55:39</td>\n",
       "      <td>Andrew you are a great journalist but your com...</td>\n",
       "      <td>Positive</td>\n",
       "    </tr>\n",
       "    <tr>\n",
       "      <th>2</th>\n",
       "      <td>@AdamGordon1977 @tedcruz Congrats for what??? ...</td>\n",
       "      <td>☆♥︎Suck It Up Democrats_Trump Won 2020♥︎☆</td>\n",
       "      <td>308</td>\n",
       "      <td>35</td>\n",
       "      <td>Rock Hill, SC</td>\n",
       "      <td>False</td>\n",
       "      <td>0</td>\n",
       "      <td>0</td>\n",
       "      <td>2020-11-17 18:55:12</td>\n",
       "      <td>Congrats for what Becoming the first person el...</td>\n",
       "      <td>Positive</td>\n",
       "    </tr>\n",
       "    <tr>\n",
       "      <th>3</th>\n",
       "      <td>RT @OryxMaps: Bexar County is home to both San...</td>\n",
       "      <td>Andrew Bellah</td>\n",
       "      <td>4320</td>\n",
       "      <td>962</td>\n",
       "      <td>McKinney, TX</td>\n",
       "      <td>False</td>\n",
       "      <td>0</td>\n",
       "      <td>2</td>\n",
       "      <td>2020-11-17 18:54:59</td>\n",
       "      <td>RT Bexar County is home to both San Antonio an...</td>\n",
       "      <td>Neutral</td>\n",
       "    </tr>\n",
       "    <tr>\n",
       "      <th>4</th>\n",
       "      <td>RT @danieltilles1: Poland's president has only...</td>\n",
       "      <td>Claudio</td>\n",
       "      <td>80775</td>\n",
       "      <td>1834</td>\n",
       "      <td>London, EU</td>\n",
       "      <td>False</td>\n",
       "      <td>0</td>\n",
       "      <td>3</td>\n",
       "      <td>2020-11-17 18:54:40</td>\n",
       "      <td>RT Poland s president has only congratulated B...</td>\n",
       "      <td>Positive</td>\n",
       "    </tr>\n",
       "  </tbody>\n",
       "</table>\n",
       "</div>"
      ],
      "text/plain": [
       "                                              Tweets  \\\n",
       "0  Radical left group mad at Joe Biden for winnin...   \n",
       "1  @afneil Andrew you are a great journalist, but...   \n",
       "2  @AdamGordon1977 @tedcruz Congrats for what??? ...   \n",
       "3  RT @OryxMaps: Bexar County is home to both San...   \n",
       "4  RT @danieltilles1: Poland's president has only...   \n",
       "\n",
       "                                        User User_statuses_count  \\\n",
       "0          🇵🇷 Angel text 3 0 3 3 0 in TX 🥁🇵🇷               50613   \n",
       "1                             Alan Armstrong                 449   \n",
       "2  ☆♥︎Suck It Up Democrats_Trump Won 2020♥︎☆                 308   \n",
       "3                              Andrew Bellah                4320   \n",
       "4                                    Claudio               80775   \n",
       "\n",
       "  user_followers  User_location User_verified fav_count rt_count  \\\n",
       "0           1494     Texas, USA         False         0        0   \n",
       "1              3                        False         0        0   \n",
       "2             35  Rock Hill, SC         False         0        0   \n",
       "3            962   McKinney, TX         False         0        2   \n",
       "4           1834     London, EU         False         0        3   \n",
       "\n",
       "            tweet_date                                        clean_tweet  \\\n",
       "0  2020-11-17 18:55:50  Radical left group mad at Joe Biden for winnin...   \n",
       "1  2020-11-17 18:55:39  Andrew you are a great journalist but your com...   \n",
       "2  2020-11-17 18:55:12  Congrats for what Becoming the first person el...   \n",
       "3  2020-11-17 18:54:59  RT Bexar County is home to both San Antonio an...   \n",
       "4  2020-11-17 18:54:40  RT Poland s president has only congratulated B...   \n",
       "\n",
       "  Sentiment  \n",
       "0  Negative  \n",
       "1  Positive  \n",
       "2  Positive  \n",
       "3   Neutral  \n",
       "4  Positive  "
      ]
     },
     "execution_count": 20,
     "metadata": {},
     "output_type": "execute_result"
    }
   ],
   "source": [
    "df['Sentiment'] = df['clean_tweet'].apply(lambda x : analyze_sentiment(x) )\n",
    "df.head()"
   ]
  },
  {
   "cell_type": "code",
   "execution_count": 21,
   "metadata": {},
   "outputs": [
    {
     "name": "stdout",
     "output_type": "stream",
     "text": [
      "Original tweet:\n",
      " @afneil Andrew you are a great journalist, but your comments re Trump not winning the election will not age well !… https://t.co/LLeLxiU4PC\n",
      "\n",
      "Clean tweet:\n",
      " Andrew you are a great journalist but your comments re Trump not winning the election will not age well\n",
      "\n",
      "Sentiment of the tweet:\n",
      " Positive\n"
     ]
    }
   ],
   "source": [
    "n = 1\n",
    "print(\"Original tweet:\\n\",df['Tweets'][n])\n",
    "print()\n",
    "print(\"Clean tweet:\\n\",df['clean_tweet'][n])\n",
    "print()\n",
    "print(\"Sentiment of the tweet:\\n\",df['Sentiment'][n])"
   ]
  },
  {
   "cell_type": "code",
   "execution_count": 23,
   "metadata": {},
   "outputs": [
    {
     "name": "stdout",
     "output_type": "stream",
     "text": [
      "Original tweet:\n",
      " @AriFleischer Maybe if Biden starts getting recognized for winning the election and gets the briefings money for tr… https://t.co/mjJ5n5QSVO\n",
      "\n",
      "Clean tweet:\n",
      " Maybe if Biden starts getting recognized for winning the election and gets the briefings money for tr\n",
      "\n",
      "Sentiment of the tweet:\n",
      " Positive\n"
     ]
    }
   ],
   "source": [
    "n = 180\n",
    "print(\"Original tweet:\\n\",df['Tweets'][n])\n",
    "print()\n",
    "print(\"Clean tweet:\\n\",df['clean_tweet'][n])\n",
    "print()\n",
    "print(\"Sentiment of the tweet:\\n\",df['Sentiment'][n])"
   ]
  },
  {
   "cell_type": "code",
   "execution_count": 28,
   "metadata": {},
   "outputs": [
    {
     "name": "stdout",
     "output_type": "stream",
     "text": [
      "Positive sentiments: 764\n",
      "Negative sentiments: 75\n",
      "Neutral sentiments: 161\n"
     ]
    }
   ],
   "source": [
    "print(\"Positive sentiments:\", df[df.Sentiment == 'Positive'].shape[0])\n",
    "print(\"Negative sentiments:\", df[df.Sentiment == 'Negative'].shape[0])\n",
    "print(\"Neutral sentiments:\", df[df.Sentiment == 'Neutral'].shape[0])"
   ]
  },
  {
   "cell_type": "code",
   "execution_count": null,
   "metadata": {},
   "outputs": [],
   "source": []
  }
 ],
 "metadata": {
  "kernelspec": {
   "display_name": "Python 3",
   "language": "python",
   "name": "python3"
  },
  "language_info": {
   "codemirror_mode": {
    "name": "ipython",
    "version": 3
   },
   "file_extension": ".py",
   "mimetype": "text/x-python",
   "name": "python",
   "nbconvert_exporter": "python",
   "pygments_lexer": "ipython3",
   "version": "3.8.3"
  }
 },
 "nbformat": 4,
 "nbformat_minor": 4
}
