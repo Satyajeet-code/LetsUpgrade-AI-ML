{
 "cells": [
  {
   "cell_type": "markdown",
   "metadata": {
    "collapsed": true
   },
   "source": [
    "# SVM"
   ]
  },
  {
   "cell_type": "code",
   "execution_count": 35,
   "metadata": {},
   "outputs": [
    {
     "name": "stdout",
     "output_type": "stream",
     "text": [
      "The accuracy score is:\n",
      "0.7265917602996255\n",
      "--------------------------------------\n",
      "The confusion matrix is:\n",
      "[[ 66  32]\n",
      " [ 41 128]]\n"
     ]
    }
   ],
   "source": [
    "def svm(value):\n",
    "    import pandas as pd\n",
    "    dataset=pd.read_csv(\"C:/Users/ASUS/Downloads/train.csv\")\n",
    "    from sklearn import preprocessing \n",
    "    from sklearn.metrics import accuracy_score\n",
    "    from sklearn.model_selection import train_test_split\n",
    "    from sklearn.metrics import confusion_matrix\n",
    "    from sklearn import svm \n",
    "    le=preprocessing.LabelEncoder()\n",
    "    dataset['Sex']=le.fit_transform(dataset['Sex'])\n",
    "    dataset['Embarked']=le.fit_transform(dataset['Embarked'])\n",
    "    dataset=dataset.drop('Cabin', axis=1)\n",
    "    dataset=dataset.drop('Name', axis=1)\n",
    "    dataset=dataset.drop('PassengerId', axis=1)\n",
    "    dataset=dataset.drop('Ticket', axis=1)\n",
    "    y=dataset[value] #Defining IDV\n",
    "    X=dataset.drop([value],axis=1)\n",
    "    X_train,X_test,y_train,y_test=train_test_split(X,y,test_size=0.3,random_state=0)\n",
    "    clf=svm.SVC(gamma=0.01,C=100.0)\n",
    "    clf.fit(X_train,y_train)\n",
    "    y_pred=clf.predict(X_test)\n",
    "    print(\"The accuracy score is:\")\n",
    "    print(accuracy_score(y_test,y_pred,normalize=True))\n",
    "    print(\"--------------------------------------\")\n",
    "    print(\"The confusion matrix is:\")\n",
    "    print(confusion_matrix(y_test,y_pred))\n",
    "    \n",
    "svm('Sex')"
   ]
  },
  {
   "cell_type": "markdown",
   "metadata": {},
   "source": [
    "# KNN"
   ]
  },
  {
   "cell_type": "code",
   "execution_count": 34,
   "metadata": {
    "scrolled": true
   },
   "outputs": [
    {
     "name": "stdout",
     "output_type": "stream",
     "text": [
      "The accuracy score is:\n",
      "0.6554307116104869\n",
      "--------------------------------------\n",
      "The confusion matrix is:\n",
      "[[ 51  47]\n",
      " [ 45 124]]\n"
     ]
    }
   ],
   "source": [
    "import pandas as pd\n",
    "dataset=pd.read_csv(\"C:/Users/ASUS/Downloads/train.csv\")\n",
    "from sklearn import preprocessing \n",
    "from sklearn.metrics import accuracy_score\n",
    "from sklearn.model_selection import train_test_split\n",
    "from sklearn.metrics import confusion_matrix\n",
    "le=preprocessing.LabelEncoder()\n",
    "dataset['Sex']=le.fit_transform(dataset['Sex'])\n",
    "dataset['Embarked']=le.fit_transform(dataset['Embarked'])\n",
    "dataset=dataset.drop('Cabin', axis=1)\n",
    "dataset=dataset.drop('Name', axis=1)\n",
    "dataset=dataset.drop('PassengerId', axis=1)\n",
    "dataset=dataset.drop('Ticket', axis=1)\n",
    "def knn(value):\n",
    "    #print(dataset)\n",
    "    y=dataset[value] #Defining IDV\n",
    "    X=dataset.drop([value],axis=1)\n",
    "    X_train,X_test,y_train,y_test=train_test_split(X,y,test_size=0.3,random_state=0)\n",
    "    from sklearn import neighbors\n",
    "    knn=neighbors.KNeighborsClassifier(n_neighbors=3)\n",
    "    knn.fit(X_train,y_train).score(X_test,y_test)\n",
    "    #print(accuracy_score(y_test,y_pred,normalize=True))\n",
    "    y_pred =knn.predict(X_test)\n",
    "    print(\"The accuracy score is:\")\n",
    "    print(accuracy_score(y_test,y_pred,normalize=True))\n",
    "    print(\"--------------------------------------\")\n",
    "    print(\"The confusion matrix is:\")\n",
    "    print(confusion_matrix(y_test,y_pred))\n",
    "    \n",
    "knn('Sex')"
   ]
  },
  {
   "cell_type": "code",
   "execution_count": null,
   "metadata": {},
   "outputs": [],
   "source": []
  },
  {
   "cell_type": "code",
   "execution_count": null,
   "metadata": {},
   "outputs": [],
   "source": []
  },
  {
   "cell_type": "code",
   "execution_count": null,
   "metadata": {},
   "outputs": [],
   "source": []
  },
  {
   "cell_type": "code",
   "execution_count": null,
   "metadata": {},
   "outputs": [],
   "source": []
  },
  {
   "cell_type": "code",
   "execution_count": null,
   "metadata": {},
   "outputs": [],
   "source": []
  },
  {
   "cell_type": "code",
   "execution_count": null,
   "metadata": {},
   "outputs": [],
   "source": []
  },
  {
   "cell_type": "code",
   "execution_count": null,
   "metadata": {},
   "outputs": [],
   "source": []
  },
  {
   "cell_type": "code",
   "execution_count": null,
   "metadata": {},
   "outputs": [],
   "source": []
  },
  {
   "cell_type": "code",
   "execution_count": null,
   "metadata": {},
   "outputs": [],
   "source": []
  },
  {
   "cell_type": "code",
   "execution_count": null,
   "metadata": {},
   "outputs": [],
   "source": []
  },
  {
   "cell_type": "code",
   "execution_count": null,
   "metadata": {},
   "outputs": [],
   "source": []
  },
  {
   "cell_type": "code",
   "execution_count": null,
   "metadata": {},
   "outputs": [],
   "source": []
  },
  {
   "cell_type": "code",
   "execution_count": null,
   "metadata": {},
   "outputs": [],
   "source": []
  },
  {
   "cell_type": "code",
   "execution_count": null,
   "metadata": {},
   "outputs": [],
   "source": []
  },
  {
   "cell_type": "code",
   "execution_count": null,
   "metadata": {},
   "outputs": [],
   "source": []
  },
  {
   "cell_type": "code",
   "execution_count": null,
   "metadata": {},
   "outputs": [],
   "source": []
  },
  {
   "cell_type": "code",
   "execution_count": null,
   "metadata": {},
   "outputs": [],
   "source": []
  }
 ],
 "metadata": {
  "kernelspec": {
   "display_name": "Python 3",
   "language": "python",
   "name": "python3"
  },
  "language_info": {
   "codemirror_mode": {
    "name": "ipython",
    "version": 3
   },
   "file_extension": ".py",
   "mimetype": "text/x-python",
   "name": "python",
   "nbconvert_exporter": "python",
   "pygments_lexer": "ipython3",
   "version": "3.7.4"
  }
 },
 "nbformat": 4,
 "nbformat_minor": 2
}
