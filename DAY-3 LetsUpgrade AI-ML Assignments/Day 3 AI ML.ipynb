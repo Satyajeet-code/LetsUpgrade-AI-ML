{
 "cells": [
  {
   "cell_type": "markdown",
   "metadata": {},
   "source": [
    "# QUESTION 1:"
   ]
  },
  {
   "cell_type": "code",
   "execution_count": 1,
   "metadata": {},
   "outputs": [
    {
     "name": "stdout",
     "output_type": "stream",
     "text": [
      "(-2-3j)\n"
     ]
    }
   ],
   "source": [
    "a=2+3j\n",
    "b=4+6j\n",
    "print(a-b)"
   ]
  },
  {
   "cell_type": "markdown",
   "metadata": {},
   "source": [
    "# QUESTION 2:"
   ]
  },
  {
   "cell_type": "code",
   "execution_count": 20,
   "metadata": {},
   "outputs": [
    {
     "name": "stdout",
     "output_type": "stream",
     "text": [
      "2.0\n"
     ]
    }
   ],
   "source": [
    "x=16\n",
    "print(x**(1/4))"
   ]
  },
  {
   "cell_type": "markdown",
   "metadata": {},
   "source": [
    "# QUESTION 3:"
   ]
  },
  {
   "cell_type": "code",
   "execution_count": 5,
   "metadata": {},
   "outputs": [
    {
     "name": "stdout",
     "output_type": "stream",
     "text": [
      "10 20\n"
     ]
    }
   ],
   "source": [
    "X=20\n",
    "Y=10\n",
    "C=0\n",
    "C=X\n",
    "X=Y\n",
    "Y=C\n",
    "print(X,Y)"
   ]
  },
  {
   "cell_type": "markdown",
   "metadata": {},
   "source": [
    "# QUESTION 4:"
   ]
  },
  {
   "cell_type": "code",
   "execution_count": 8,
   "metadata": {},
   "outputs": [
    {
     "name": "stdout",
     "output_type": "stream",
     "text": [
      "20 10\n"
     ]
    }
   ],
   "source": [
    "x=10\n",
    "y=20\n",
    "x,y=y,x\n",
    "print(x,y)"
   ]
  },
  {
   "cell_type": "markdown",
   "metadata": {},
   "source": [
    "# QUESTION 5:"
   ]
  },
  {
   "cell_type": "code",
   "execution_count": 13,
   "metadata": {},
   "outputs": [
    {
     "name": "stdout",
     "output_type": "stream",
     "text": [
      "265.92777777777775\n",
      "-7.222222222222222\n"
     ]
    }
   ],
   "source": [
    "f=19\n",
    "#converted to kelvin\n",
    "k = (f- 32) * 5/9 + 273.15   \n",
    "print(k)\n",
    "#converted to celcius\n",
    "c= (f-32)*5/9\n",
    "print(c)"
   ]
  },
  {
   "cell_type": "markdown",
   "metadata": {},
   "source": [
    "# QUESTION 6:"
   ]
  },
  {
   "cell_type": "code",
   "execution_count": 16,
   "metadata": {},
   "outputs": [
    {
     "name": "stdout",
     "output_type": "stream",
     "text": [
      "<class 'int'>\n",
      "<class 'float'>\n",
      "<class 'str'>\n",
      "<class 'complex'>\n",
      "<class 'bool'>\n"
     ]
    }
   ],
   "source": [
    "q=12\n",
    "print(type(q))\n",
    "w=32.1\n",
    "print(type(w))\n",
    "e='Satyajeet'\n",
    "print(type(e))\n",
    "t=32+45j\n",
    "print(type(t))\n",
    "y= True\n",
    "print(type(y))"
   ]
  },
  {
   "cell_type": "markdown",
   "metadata": {},
   "source": [
    "# QUESTION 7:"
   ]
  },
  {
   "cell_type": "markdown",
   "metadata": {},
   "source": [
    "## How to use GitHub to upload projects/assignments:\n",
    "\n",
    "\n",
    "* Goto Github.com and on the top left corner of the screen you will find two buttons named Sign-In and Sign-Up.\n",
    "* Click on Sign-Up to create a new account. \n",
    "* Enter your name , email-ID and password in respective fields.\n",
    "* After creating your account, you will get a page. On the top left side of the page repositories and written and just by it's side there is a option called 'new'. Click on new. (Make sure you save your assignments by proper names in a folder so that you can upload them.)\n",
    "* Upon clicking on 'new', a page will open which says \"create a new repository\".\n",
    "* There will be your username and just by it's side you will be asked to give your repository a name. Give it as LetsUpgrade AI-ML.\n",
    "* Below that there is a description section wherein you can describe the repository if you want.\n",
    "* Below that you will have the option to keep your repository private or public. Make sure it is public so that people can view it.\n",
    "* Keep everything as it it and click on create repository.\n",
    "* So now a folder called LetsUpgrade-AI-ML is created and on the very first tile which says \"Quick Setup\", click on \" Uploading an existing file\".\n",
    "* And then you will get a section where you can drag and drop your file or else choose it from your PC.\n",
    "* Now you can drag and drop the folder(assignment). \n",
    "* Once you drag and drop your folder, you will se a status bar that says uploading and after successfully uploading, click on \"Commit Changes\" button. you will get some textboxes above the \"Commit Changes\" button, but it's advisable not to enter anything there.\n",
    "* So, now you can see you folder name and clicking on it will lead you to your file and clicking on it will open the file. GitHub supports almost all types of file formats. So it will also open your .pynb or .py file.\n",
    "* For reopening your file anytime later, goto repositories tab in your profile and there you can find your repository clicking on which you will find your folder.\n",
    "* So for uploading assignments to the google form by LetsUpgrade, goto your profile, click on repository tab, select the folder and then copy the link in the address bar of your browser and paste it in the respective field in the Google form.\n",
    "* To see if your repository is visible to others("
   ]
  },
  {
   "cell_type": "code",
   "execution_count": null,
   "metadata": {},
   "outputs": [],
   "source": []
  }
 ],
 "metadata": {
  "kernelspec": {
   "display_name": "Python 3",
   "language": "python",
   "name": "python3"
  },
  "language_info": {
   "codemirror_mode": {
    "name": "ipython",
    "version": 3
   },
   "file_extension": ".py",
   "mimetype": "text/x-python",
   "name": "python",
   "nbconvert_exporter": "python",
   "pygments_lexer": "ipython3",
   "version": "3.7.4"
  }
 },
 "nbformat": 4,
 "nbformat_minor": 2
}
